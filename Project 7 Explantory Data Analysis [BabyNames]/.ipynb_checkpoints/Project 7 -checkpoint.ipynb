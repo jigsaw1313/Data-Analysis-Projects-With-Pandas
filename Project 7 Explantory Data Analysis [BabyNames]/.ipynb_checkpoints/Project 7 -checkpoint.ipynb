{
 "cells": [
  {
   "cell_type": "markdown",
   "id": "3211f11d-48be-4260-97a1-9dd11205df1c",
   "metadata": {},
   "source": [
    "# 0083\n",
    "# Explanatory Data Analysis & Avanced Visualization [BabyNames Dataset]"
   ]
  },
  {
   "cell_type": "markdown",
   "id": "61a7b0e8-4014-48d0-b12e-6e9c2b7d18eb",
   "metadata": {},
   "source": [
    "## First Inspection: The Most Populat Names in 2018"
   ]
  },
  {
   "cell_type": "code",
   "execution_count": 4,
   "id": "94473ebb-6027-4723-9e41-5bf33b9a1e75",
   "metadata": {
    "tags": []
   },
   "outputs": [],
   "source": [
    "import pandas as pd\n",
    "import matplotlib.pyplot as plt\n",
    "pd.options.display.float_format = '{:.2f}'.format"
   ]
  },
  {
   "cell_type": "code",
   "execution_count": 5,
   "id": "69f44292-5f3c-47e0-8643-1f83999dce86",
   "metadata": {
    "tags": []
   },
   "outputs": [],
   "source": [
    "df = pd.read_csv('us_baby_names.csv')"
   ]
  },
  {
   "cell_type": "code",
   "execution_count": 6,
   "id": "b976c636-01be-4e25-9643-070b45f3a2f2",
   "metadata": {
    "tags": []
   },
   "outputs": [
    {
     "data": {
      "text/html": [
       "<div>\n",
       "<style scoped>\n",
       "    .dataframe tbody tr th:only-of-type {\n",
       "        vertical-align: middle;\n",
       "    }\n",
       "\n",
       "    .dataframe tbody tr th {\n",
       "        vertical-align: top;\n",
       "    }\n",
       "\n",
       "    .dataframe thead th {\n",
       "        text-align: right;\n",
       "    }\n",
       "</style>\n",
       "<table border=\"1\" class=\"dataframe\">\n",
       "  <thead>\n",
       "    <tr style=\"text-align: right;\">\n",
       "      <th></th>\n",
       "      <th>Year</th>\n",
       "      <th>Name</th>\n",
       "      <th>Gender</th>\n",
       "      <th>Count</th>\n",
       "    </tr>\n",
       "  </thead>\n",
       "  <tbody>\n",
       "    <tr>\n",
       "      <th>0</th>\n",
       "      <td>1880</td>\n",
       "      <td>Mary</td>\n",
       "      <td>F</td>\n",
       "      <td>7065</td>\n",
       "    </tr>\n",
       "    <tr>\n",
       "      <th>1</th>\n",
       "      <td>1880</td>\n",
       "      <td>Anna</td>\n",
       "      <td>F</td>\n",
       "      <td>2604</td>\n",
       "    </tr>\n",
       "    <tr>\n",
       "      <th>2</th>\n",
       "      <td>1880</td>\n",
       "      <td>Emma</td>\n",
       "      <td>F</td>\n",
       "      <td>2003</td>\n",
       "    </tr>\n",
       "    <tr>\n",
       "      <th>3</th>\n",
       "      <td>1880</td>\n",
       "      <td>Elizabeth</td>\n",
       "      <td>F</td>\n",
       "      <td>1939</td>\n",
       "    </tr>\n",
       "    <tr>\n",
       "      <th>4</th>\n",
       "      <td>1880</td>\n",
       "      <td>Minnie</td>\n",
       "      <td>F</td>\n",
       "      <td>1746</td>\n",
       "    </tr>\n",
       "    <tr>\n",
       "      <th>...</th>\n",
       "      <td>...</td>\n",
       "      <td>...</td>\n",
       "      <td>...</td>\n",
       "      <td>...</td>\n",
       "    </tr>\n",
       "    <tr>\n",
       "      <th>1957041</th>\n",
       "      <td>2018</td>\n",
       "      <td>Zylas</td>\n",
       "      <td>M</td>\n",
       "      <td>5</td>\n",
       "    </tr>\n",
       "    <tr>\n",
       "      <th>1957042</th>\n",
       "      <td>2018</td>\n",
       "      <td>Zyran</td>\n",
       "      <td>M</td>\n",
       "      <td>5</td>\n",
       "    </tr>\n",
       "    <tr>\n",
       "      <th>1957043</th>\n",
       "      <td>2018</td>\n",
       "      <td>Zyrie</td>\n",
       "      <td>M</td>\n",
       "      <td>5</td>\n",
       "    </tr>\n",
       "    <tr>\n",
       "      <th>1957044</th>\n",
       "      <td>2018</td>\n",
       "      <td>Zyron</td>\n",
       "      <td>M</td>\n",
       "      <td>5</td>\n",
       "    </tr>\n",
       "    <tr>\n",
       "      <th>1957045</th>\n",
       "      <td>2018</td>\n",
       "      <td>Zzyzx</td>\n",
       "      <td>M</td>\n",
       "      <td>5</td>\n",
       "    </tr>\n",
       "  </tbody>\n",
       "</table>\n",
       "<p>1957046 rows × 4 columns</p>\n",
       "</div>"
      ],
      "text/plain": [
       "         Year       Name Gender  Count\n",
       "0        1880       Mary      F   7065\n",
       "1        1880       Anna      F   2604\n",
       "2        1880       Emma      F   2003\n",
       "3        1880  Elizabeth      F   1939\n",
       "4        1880     Minnie      F   1746\n",
       "...       ...        ...    ...    ...\n",
       "1957041  2018      Zylas      M      5\n",
       "1957042  2018      Zyran      M      5\n",
       "1957043  2018      Zyrie      M      5\n",
       "1957044  2018      Zyron      M      5\n",
       "1957045  2018      Zzyzx      M      5\n",
       "\n",
       "[1957046 rows x 4 columns]"
      ]
     },
     "execution_count": 6,
     "metadata": {},
     "output_type": "execute_result"
    }
   ],
   "source": [
    "df"
   ]
  },
  {
   "cell_type": "markdown",
   "id": "0964cd7d-3ef0-4d0d-9c41-6c47fd378262",
   "metadata": {},
   "source": [
    "##### Check the Status of `df`"
   ]
  },
  {
   "cell_type": "code",
   "execution_count": 4,
   "id": "a5921fb4-ce34-4ec5-a29e-b9df18a1e2aa",
   "metadata": {
    "tags": []
   },
   "outputs": [
    {
     "name": "stdout",
     "output_type": "stream",
     "text": [
      "<class 'pandas.core.frame.DataFrame'>\n",
      "RangeIndex: 1957046 entries, 0 to 1957045\n",
      "Data columns (total 4 columns):\n",
      " #   Column  Dtype \n",
      "---  ------  ----- \n",
      " 0   Year    int64 \n",
      " 1   Name    object\n",
      " 2   Gender  object\n",
      " 3   Count   int64 \n",
      "dtypes: int64(2), object(2)\n",
      "memory usage: 59.7+ MB\n"
     ]
    }
   ],
   "source": [
    "df.info()"
   ]
  },
  {
   "cell_type": "code",
   "execution_count": 5,
   "id": "607e77c8-72ae-4723-8038-6075e5c55c53",
   "metadata": {
    "tags": []
   },
   "outputs": [
    {
     "data": {
      "text/plain": [
       "Year        139\n",
       "Name      98400\n",
       "Gender        2\n",
       "Count     13720\n",
       "dtype: int64"
      ]
     },
     "execution_count": 5,
     "metadata": {},
     "output_type": "execute_result"
    }
   ],
   "source": [
    "df.nunique()"
   ]
  },
  {
   "cell_type": "markdown",
   "id": "8ed96dd8-e3d2-426c-a36a-08b4c674bdbc",
   "metadata": {},
   "source": [
    "##### Change `Gender` col dtype to `Category`"
   ]
  },
  {
   "cell_type": "code",
   "execution_count": 6,
   "id": "4c01fd8b-2e8e-4927-b7fc-6bff129d30c5",
   "metadata": {
    "tags": []
   },
   "outputs": [],
   "source": [
    "df['Gender'] = df['Gender'].astype('category')"
   ]
  },
  {
   "cell_type": "code",
   "execution_count": 7,
   "id": "81249be8-47ed-4a67-bcf5-66ec049bb57f",
   "metadata": {
    "tags": []
   },
   "outputs": [
    {
     "data": {
      "text/plain": [
       "Year        139\n",
       "Name      98400\n",
       "Gender        2\n",
       "Count     13720\n",
       "dtype: int64"
      ]
     },
     "execution_count": 7,
     "metadata": {},
     "output_type": "execute_result"
    }
   ],
   "source": [
    "df.nunique()"
   ]
  },
  {
   "cell_type": "code",
   "execution_count": 8,
   "id": "db7acc29-7de2-464e-956d-baa71f1dab40",
   "metadata": {
    "tags": []
   },
   "outputs": [
    {
     "name": "stdout",
     "output_type": "stream",
     "text": [
      "<class 'pandas.core.frame.DataFrame'>\n",
      "RangeIndex: 1957046 entries, 0 to 1957045\n",
      "Data columns (total 4 columns):\n",
      " #   Column  Dtype   \n",
      "---  ------  -----   \n",
      " 0   Year    int64   \n",
      " 1   Name    object  \n",
      " 2   Gender  category\n",
      " 3   Count   int64   \n",
      "dtypes: category(1), int64(2), object(1)\n",
      "memory usage: 46.7+ MB\n"
     ]
    }
   ],
   "source": [
    "df.info()"
   ]
  },
  {
   "cell_type": "markdown",
   "id": "2675d30e-a454-4367-8162-d2e739c39c6f",
   "metadata": {},
   "source": [
    "#### Select Names of 2018"
   ]
  },
  {
   "cell_type": "code",
   "execution_count": 9,
   "id": "c2172e93-0896-480d-af1d-b978437ff814",
   "metadata": {
    "tags": []
   },
   "outputs": [
    {
     "data": {
      "text/html": [
       "<div>\n",
       "<style scoped>\n",
       "    .dataframe tbody tr th:only-of-type {\n",
       "        vertical-align: middle;\n",
       "    }\n",
       "\n",
       "    .dataframe tbody tr th {\n",
       "        vertical-align: top;\n",
       "    }\n",
       "\n",
       "    .dataframe thead th {\n",
       "        text-align: right;\n",
       "    }\n",
       "</style>\n",
       "<table border=\"1\" class=\"dataframe\">\n",
       "  <thead>\n",
       "    <tr style=\"text-align: right;\">\n",
       "      <th></th>\n",
       "      <th>Year</th>\n",
       "      <th>Name</th>\n",
       "      <th>Gender</th>\n",
       "      <th>Count</th>\n",
       "    </tr>\n",
       "  </thead>\n",
       "  <tbody>\n",
       "    <tr>\n",
       "      <th>1925013</th>\n",
       "      <td>2018</td>\n",
       "      <td>Emma</td>\n",
       "      <td>F</td>\n",
       "      <td>18688</td>\n",
       "    </tr>\n",
       "    <tr>\n",
       "      <th>1925014</th>\n",
       "      <td>2018</td>\n",
       "      <td>Olivia</td>\n",
       "      <td>F</td>\n",
       "      <td>17921</td>\n",
       "    </tr>\n",
       "    <tr>\n",
       "      <th>1925015</th>\n",
       "      <td>2018</td>\n",
       "      <td>Ava</td>\n",
       "      <td>F</td>\n",
       "      <td>14924</td>\n",
       "    </tr>\n",
       "    <tr>\n",
       "      <th>1925016</th>\n",
       "      <td>2018</td>\n",
       "      <td>Isabella</td>\n",
       "      <td>F</td>\n",
       "      <td>14464</td>\n",
       "    </tr>\n",
       "    <tr>\n",
       "      <th>1925017</th>\n",
       "      <td>2018</td>\n",
       "      <td>Sophia</td>\n",
       "      <td>F</td>\n",
       "      <td>13928</td>\n",
       "    </tr>\n",
       "    <tr>\n",
       "      <th>...</th>\n",
       "      <td>...</td>\n",
       "      <td>...</td>\n",
       "      <td>...</td>\n",
       "      <td>...</td>\n",
       "    </tr>\n",
       "    <tr>\n",
       "      <th>1957041</th>\n",
       "      <td>2018</td>\n",
       "      <td>Zylas</td>\n",
       "      <td>M</td>\n",
       "      <td>5</td>\n",
       "    </tr>\n",
       "    <tr>\n",
       "      <th>1957042</th>\n",
       "      <td>2018</td>\n",
       "      <td>Zyran</td>\n",
       "      <td>M</td>\n",
       "      <td>5</td>\n",
       "    </tr>\n",
       "    <tr>\n",
       "      <th>1957043</th>\n",
       "      <td>2018</td>\n",
       "      <td>Zyrie</td>\n",
       "      <td>M</td>\n",
       "      <td>5</td>\n",
       "    </tr>\n",
       "    <tr>\n",
       "      <th>1957044</th>\n",
       "      <td>2018</td>\n",
       "      <td>Zyron</td>\n",
       "      <td>M</td>\n",
       "      <td>5</td>\n",
       "    </tr>\n",
       "    <tr>\n",
       "      <th>1957045</th>\n",
       "      <td>2018</td>\n",
       "      <td>Zzyzx</td>\n",
       "      <td>M</td>\n",
       "      <td>5</td>\n",
       "    </tr>\n",
       "  </tbody>\n",
       "</table>\n",
       "<p>32033 rows × 4 columns</p>\n",
       "</div>"
      ],
      "text/plain": [
       "         Year      Name Gender  Count\n",
       "1925013  2018      Emma      F  18688\n",
       "1925014  2018    Olivia      F  17921\n",
       "1925015  2018       Ava      F  14924\n",
       "1925016  2018  Isabella      F  14464\n",
       "1925017  2018    Sophia      F  13928\n",
       "...       ...       ...    ...    ...\n",
       "1957041  2018     Zylas      M      5\n",
       "1957042  2018     Zyran      M      5\n",
       "1957043  2018     Zyrie      M      5\n",
       "1957044  2018     Zyron      M      5\n",
       "1957045  2018     Zzyzx      M      5\n",
       "\n",
       "[32033 rows x 4 columns]"
      ]
     },
     "execution_count": 9,
     "metadata": {},
     "output_type": "execute_result"
    }
   ],
   "source": [
    "names_2018 = df[df['Year'] == 2018].copy()\n",
    "names_2018"
   ]
  },
  {
   "cell_type": "markdown",
   "id": "77b1a2b5-74a3-4e31-ba80-d091ecf590ba",
   "metadata": {},
   "source": [
    "* df['Year'] == 2018: By using the condition df['Year'] == 2018, we create a Boolean series that identifies the rows where the 'Year' column equals 2018.\n",
    "\n",
    "* df[df['Year'] == 2018]: We use this Boolean series as a mask to filter the rows in the DataFrame df. Only the rows where the condition is True will be selected.\n",
    "\n",
    "* .copy(): By invoking the copy() method on the filtered DataFrame, we create a new DataFrame names_2018 that is an independent copy of the filtered data. This ensures that any modifications made to names_2018 will not affect the original DataFrame df.\n",
    "\n",
    "By casting this enchantment, you shall possess a copy of the DataFrame df that contains only the rows where the 'Year' column is 2018. Feel free to work your magic on names_2018 without altering the original DataFrame."
   ]
  },
  {
   "cell_type": "markdown",
   "id": "2df4764d-f5c8-4b0e-969e-b1ed45570a6b",
   "metadata": {},
   "source": [
    "#### Most Popular Female Names of 2018"
   ]
  },
  {
   "cell_type": "code",
   "execution_count": 10,
   "id": "5771a194-5cdb-44d5-a0bd-786e307f612b",
   "metadata": {
    "tags": []
   },
   "outputs": [
    {
     "data": {
      "text/html": [
       "<div>\n",
       "<style scoped>\n",
       "    .dataframe tbody tr th:only-of-type {\n",
       "        vertical-align: middle;\n",
       "    }\n",
       "\n",
       "    .dataframe tbody tr th {\n",
       "        vertical-align: top;\n",
       "    }\n",
       "\n",
       "    .dataframe thead th {\n",
       "        text-align: right;\n",
       "    }\n",
       "</style>\n",
       "<table border=\"1\" class=\"dataframe\">\n",
       "  <thead>\n",
       "    <tr style=\"text-align: right;\">\n",
       "      <th></th>\n",
       "      <th>Year</th>\n",
       "      <th>Name</th>\n",
       "      <th>Gender</th>\n",
       "      <th>Count</th>\n",
       "    </tr>\n",
       "  </thead>\n",
       "  <tbody>\n",
       "    <tr>\n",
       "      <th>1925013</th>\n",
       "      <td>2018</td>\n",
       "      <td>Emma</td>\n",
       "      <td>F</td>\n",
       "      <td>18688</td>\n",
       "    </tr>\n",
       "    <tr>\n",
       "      <th>1925014</th>\n",
       "      <td>2018</td>\n",
       "      <td>Olivia</td>\n",
       "      <td>F</td>\n",
       "      <td>17921</td>\n",
       "    </tr>\n",
       "    <tr>\n",
       "      <th>1925015</th>\n",
       "      <td>2018</td>\n",
       "      <td>Ava</td>\n",
       "      <td>F</td>\n",
       "      <td>14924</td>\n",
       "    </tr>\n",
       "    <tr>\n",
       "      <th>1925016</th>\n",
       "      <td>2018</td>\n",
       "      <td>Isabella</td>\n",
       "      <td>F</td>\n",
       "      <td>14464</td>\n",
       "    </tr>\n",
       "    <tr>\n",
       "      <th>1925017</th>\n",
       "      <td>2018</td>\n",
       "      <td>Sophia</td>\n",
       "      <td>F</td>\n",
       "      <td>13928</td>\n",
       "    </tr>\n",
       "    <tr>\n",
       "      <th>1925018</th>\n",
       "      <td>2018</td>\n",
       "      <td>Charlotte</td>\n",
       "      <td>F</td>\n",
       "      <td>12940</td>\n",
       "    </tr>\n",
       "    <tr>\n",
       "      <th>1925019</th>\n",
       "      <td>2018</td>\n",
       "      <td>Mia</td>\n",
       "      <td>F</td>\n",
       "      <td>12642</td>\n",
       "    </tr>\n",
       "    <tr>\n",
       "      <th>1925020</th>\n",
       "      <td>2018</td>\n",
       "      <td>Amelia</td>\n",
       "      <td>F</td>\n",
       "      <td>12301</td>\n",
       "    </tr>\n",
       "    <tr>\n",
       "      <th>1925021</th>\n",
       "      <td>2018</td>\n",
       "      <td>Harper</td>\n",
       "      <td>F</td>\n",
       "      <td>10582</td>\n",
       "    </tr>\n",
       "    <tr>\n",
       "      <th>1925022</th>\n",
       "      <td>2018</td>\n",
       "      <td>Evelyn</td>\n",
       "      <td>F</td>\n",
       "      <td>10376</td>\n",
       "    </tr>\n",
       "  </tbody>\n",
       "</table>\n",
       "</div>"
      ],
      "text/plain": [
       "         Year       Name Gender  Count\n",
       "1925013  2018       Emma      F  18688\n",
       "1925014  2018     Olivia      F  17921\n",
       "1925015  2018        Ava      F  14924\n",
       "1925016  2018   Isabella      F  14464\n",
       "1925017  2018     Sophia      F  13928\n",
       "1925018  2018  Charlotte      F  12940\n",
       "1925019  2018        Mia      F  12642\n",
       "1925020  2018     Amelia      F  12301\n",
       "1925021  2018     Harper      F  10582\n",
       "1925022  2018     Evelyn      F  10376"
      ]
     },
     "execution_count": 10,
     "metadata": {},
     "output_type": "execute_result"
    }
   ],
   "source": [
    "names_2018[names_2018['Gender'] == 'F'].nlargest(10, \"Count\")"
   ]
  },
  {
   "cell_type": "code",
   "execution_count": 11,
   "id": "f27c8d37-1626-457e-a67d-2f62e2827b3d",
   "metadata": {
    "tags": []
   },
   "outputs": [],
   "source": [
    "def most_pop(year, gender, n):\n",
    "    return df[(df['Year'] == year) & (df['Gender'] == gender)].nlargest(n, \"Count\")"
   ]
  },
  {
   "cell_type": "code",
   "execution_count": 12,
   "id": "a09f8fca-c1d7-42bf-a9ad-2fd19b2f4963",
   "metadata": {
    "tags": []
   },
   "outputs": [
    {
     "data": {
      "text/html": [
       "<div>\n",
       "<style scoped>\n",
       "    .dataframe tbody tr th:only-of-type {\n",
       "        vertical-align: middle;\n",
       "    }\n",
       "\n",
       "    .dataframe tbody tr th {\n",
       "        vertical-align: top;\n",
       "    }\n",
       "\n",
       "    .dataframe thead th {\n",
       "        text-align: right;\n",
       "    }\n",
       "</style>\n",
       "<table border=\"1\" class=\"dataframe\">\n",
       "  <thead>\n",
       "    <tr style=\"text-align: right;\">\n",
       "      <th></th>\n",
       "      <th>Year</th>\n",
       "      <th>Name</th>\n",
       "      <th>Gender</th>\n",
       "      <th>Count</th>\n",
       "    </tr>\n",
       "  </thead>\n",
       "  <tbody>\n",
       "    <tr>\n",
       "      <th>1943042</th>\n",
       "      <td>2018</td>\n",
       "      <td>Liam</td>\n",
       "      <td>M</td>\n",
       "      <td>19837</td>\n",
       "    </tr>\n",
       "    <tr>\n",
       "      <th>1943043</th>\n",
       "      <td>2018</td>\n",
       "      <td>Noah</td>\n",
       "      <td>M</td>\n",
       "      <td>18267</td>\n",
       "    </tr>\n",
       "    <tr>\n",
       "      <th>1943044</th>\n",
       "      <td>2018</td>\n",
       "      <td>William</td>\n",
       "      <td>M</td>\n",
       "      <td>14516</td>\n",
       "    </tr>\n",
       "    <tr>\n",
       "      <th>1943045</th>\n",
       "      <td>2018</td>\n",
       "      <td>James</td>\n",
       "      <td>M</td>\n",
       "      <td>13525</td>\n",
       "    </tr>\n",
       "    <tr>\n",
       "      <th>1943046</th>\n",
       "      <td>2018</td>\n",
       "      <td>Oliver</td>\n",
       "      <td>M</td>\n",
       "      <td>13389</td>\n",
       "    </tr>\n",
       "    <tr>\n",
       "      <th>1943047</th>\n",
       "      <td>2018</td>\n",
       "      <td>Benjamin</td>\n",
       "      <td>M</td>\n",
       "      <td>13381</td>\n",
       "    </tr>\n",
       "    <tr>\n",
       "      <th>1943048</th>\n",
       "      <td>2018</td>\n",
       "      <td>Elijah</td>\n",
       "      <td>M</td>\n",
       "      <td>12886</td>\n",
       "    </tr>\n",
       "    <tr>\n",
       "      <th>1943049</th>\n",
       "      <td>2018</td>\n",
       "      <td>Lucas</td>\n",
       "      <td>M</td>\n",
       "      <td>12585</td>\n",
       "    </tr>\n",
       "    <tr>\n",
       "      <th>1943050</th>\n",
       "      <td>2018</td>\n",
       "      <td>Mason</td>\n",
       "      <td>M</td>\n",
       "      <td>12435</td>\n",
       "    </tr>\n",
       "    <tr>\n",
       "      <th>1943051</th>\n",
       "      <td>2018</td>\n",
       "      <td>Logan</td>\n",
       "      <td>M</td>\n",
       "      <td>12352</td>\n",
       "    </tr>\n",
       "  </tbody>\n",
       "</table>\n",
       "</div>"
      ],
      "text/plain": [
       "         Year      Name Gender  Count\n",
       "1943042  2018      Liam      M  19837\n",
       "1943043  2018      Noah      M  18267\n",
       "1943044  2018   William      M  14516\n",
       "1943045  2018     James      M  13525\n",
       "1943046  2018    Oliver      M  13389\n",
       "1943047  2018  Benjamin      M  13381\n",
       "1943048  2018    Elijah      M  12886\n",
       "1943049  2018     Lucas      M  12585\n",
       "1943050  2018     Mason      M  12435\n",
       "1943051  2018     Logan      M  12352"
      ]
     },
     "execution_count": 12,
     "metadata": {},
     "output_type": "execute_result"
    }
   ],
   "source": [
    "most_pop(2018, 'M', 10)"
   ]
  },
  {
   "cell_type": "code",
   "execution_count": 13,
   "id": "26f54d51-a142-4621-9da9-a74c91b99c13",
   "metadata": {
    "tags": []
   },
   "outputs": [
    {
     "data": {
      "text/html": [
       "<div>\n",
       "<style scoped>\n",
       "    .dataframe tbody tr th:only-of-type {\n",
       "        vertical-align: middle;\n",
       "    }\n",
       "\n",
       "    .dataframe tbody tr th {\n",
       "        vertical-align: top;\n",
       "    }\n",
       "\n",
       "    .dataframe thead th {\n",
       "        text-align: right;\n",
       "    }\n",
       "</style>\n",
       "<table border=\"1\" class=\"dataframe\">\n",
       "  <thead>\n",
       "    <tr style=\"text-align: right;\">\n",
       "      <th></th>\n",
       "      <th>Year</th>\n",
       "      <th>Name</th>\n",
       "      <th>Gender</th>\n",
       "      <th>Count</th>\n",
       "    </tr>\n",
       "  </thead>\n",
       "  <tbody>\n",
       "    <tr>\n",
       "      <th>1925013</th>\n",
       "      <td>2018</td>\n",
       "      <td>Emma</td>\n",
       "      <td>F</td>\n",
       "      <td>18688</td>\n",
       "    </tr>\n",
       "    <tr>\n",
       "      <th>1925014</th>\n",
       "      <td>2018</td>\n",
       "      <td>Olivia</td>\n",
       "      <td>F</td>\n",
       "      <td>17921</td>\n",
       "    </tr>\n",
       "    <tr>\n",
       "      <th>1925015</th>\n",
       "      <td>2018</td>\n",
       "      <td>Ava</td>\n",
       "      <td>F</td>\n",
       "      <td>14924</td>\n",
       "    </tr>\n",
       "    <tr>\n",
       "      <th>1925016</th>\n",
       "      <td>2018</td>\n",
       "      <td>Isabella</td>\n",
       "      <td>F</td>\n",
       "      <td>14464</td>\n",
       "    </tr>\n",
       "    <tr>\n",
       "      <th>1925017</th>\n",
       "      <td>2018</td>\n",
       "      <td>Sophia</td>\n",
       "      <td>F</td>\n",
       "      <td>13928</td>\n",
       "    </tr>\n",
       "    <tr>\n",
       "      <th>1925018</th>\n",
       "      <td>2018</td>\n",
       "      <td>Charlotte</td>\n",
       "      <td>F</td>\n",
       "      <td>12940</td>\n",
       "    </tr>\n",
       "    <tr>\n",
       "      <th>1925019</th>\n",
       "      <td>2018</td>\n",
       "      <td>Mia</td>\n",
       "      <td>F</td>\n",
       "      <td>12642</td>\n",
       "    </tr>\n",
       "    <tr>\n",
       "      <th>1925020</th>\n",
       "      <td>2018</td>\n",
       "      <td>Amelia</td>\n",
       "      <td>F</td>\n",
       "      <td>12301</td>\n",
       "    </tr>\n",
       "    <tr>\n",
       "      <th>1925021</th>\n",
       "      <td>2018</td>\n",
       "      <td>Harper</td>\n",
       "      <td>F</td>\n",
       "      <td>10582</td>\n",
       "    </tr>\n",
       "    <tr>\n",
       "      <th>1925022</th>\n",
       "      <td>2018</td>\n",
       "      <td>Evelyn</td>\n",
       "      <td>F</td>\n",
       "      <td>10376</td>\n",
       "    </tr>\n",
       "  </tbody>\n",
       "</table>\n",
       "</div>"
      ],
      "text/plain": [
       "         Year       Name Gender  Count\n",
       "1925013  2018       Emma      F  18688\n",
       "1925014  2018     Olivia      F  17921\n",
       "1925015  2018        Ava      F  14924\n",
       "1925016  2018   Isabella      F  14464\n",
       "1925017  2018     Sophia      F  13928\n",
       "1925018  2018  Charlotte      F  12940\n",
       "1925019  2018        Mia      F  12642\n",
       "1925020  2018     Amelia      F  12301\n",
       "1925021  2018     Harper      F  10582\n",
       "1925022  2018     Evelyn      F  10376"
      ]
     },
     "execution_count": 13,
     "metadata": {},
     "output_type": "execute_result"
    }
   ],
   "source": [
    "most_pop(2018, \"F\", 10)"
   ]
  },
  {
   "cell_type": "markdown",
   "id": "7254d4d3-00b8-45a1-b473-b6a1d637a98a",
   "metadata": {},
   "source": [
    "# 0084\n",
    "# Evergreen Names (1800 - 2018)"
   ]
  },
  {
   "cell_type": "code",
   "execution_count": 14,
   "id": "7c8a5c6a-428e-4fb2-b6f2-9aec3971413b",
   "metadata": {
    "tags": []
   },
   "outputs": [
    {
     "data": {
      "text/html": [
       "<div>\n",
       "<style scoped>\n",
       "    .dataframe tbody tr th:only-of-type {\n",
       "        vertical-align: middle;\n",
       "    }\n",
       "\n",
       "    .dataframe tbody tr th {\n",
       "        vertical-align: top;\n",
       "    }\n",
       "\n",
       "    .dataframe thead th {\n",
       "        text-align: right;\n",
       "    }\n",
       "</style>\n",
       "<table border=\"1\" class=\"dataframe\">\n",
       "  <thead>\n",
       "    <tr style=\"text-align: right;\">\n",
       "      <th></th>\n",
       "      <th>Year</th>\n",
       "      <th>Name</th>\n",
       "      <th>Gender</th>\n",
       "      <th>Count</th>\n",
       "    </tr>\n",
       "  </thead>\n",
       "  <tbody>\n",
       "    <tr>\n",
       "      <th>1925013</th>\n",
       "      <td>2018</td>\n",
       "      <td>Emma</td>\n",
       "      <td>F</td>\n",
       "      <td>18688</td>\n",
       "    </tr>\n",
       "    <tr>\n",
       "      <th>1925014</th>\n",
       "      <td>2018</td>\n",
       "      <td>Olivia</td>\n",
       "      <td>F</td>\n",
       "      <td>17921</td>\n",
       "    </tr>\n",
       "    <tr>\n",
       "      <th>1925015</th>\n",
       "      <td>2018</td>\n",
       "      <td>Ava</td>\n",
       "      <td>F</td>\n",
       "      <td>14924</td>\n",
       "    </tr>\n",
       "    <tr>\n",
       "      <th>1925016</th>\n",
       "      <td>2018</td>\n",
       "      <td>Isabella</td>\n",
       "      <td>F</td>\n",
       "      <td>14464</td>\n",
       "    </tr>\n",
       "    <tr>\n",
       "      <th>1925017</th>\n",
       "      <td>2018</td>\n",
       "      <td>Sophia</td>\n",
       "      <td>F</td>\n",
       "      <td>13928</td>\n",
       "    </tr>\n",
       "    <tr>\n",
       "      <th>1925018</th>\n",
       "      <td>2018</td>\n",
       "      <td>Charlotte</td>\n",
       "      <td>F</td>\n",
       "      <td>12940</td>\n",
       "    </tr>\n",
       "    <tr>\n",
       "      <th>1925019</th>\n",
       "      <td>2018</td>\n",
       "      <td>Mia</td>\n",
       "      <td>F</td>\n",
       "      <td>12642</td>\n",
       "    </tr>\n",
       "    <tr>\n",
       "      <th>1925020</th>\n",
       "      <td>2018</td>\n",
       "      <td>Amelia</td>\n",
       "      <td>F</td>\n",
       "      <td>12301</td>\n",
       "    </tr>\n",
       "    <tr>\n",
       "      <th>1925021</th>\n",
       "      <td>2018</td>\n",
       "      <td>Harper</td>\n",
       "      <td>F</td>\n",
       "      <td>10582</td>\n",
       "    </tr>\n",
       "    <tr>\n",
       "      <th>1925022</th>\n",
       "      <td>2018</td>\n",
       "      <td>Evelyn</td>\n",
       "      <td>F</td>\n",
       "      <td>10376</td>\n",
       "    </tr>\n",
       "    <tr>\n",
       "      <th>1925023</th>\n",
       "      <td>2018</td>\n",
       "      <td>Abigail</td>\n",
       "      <td>F</td>\n",
       "      <td>9796</td>\n",
       "    </tr>\n",
       "    <tr>\n",
       "      <th>1925024</th>\n",
       "      <td>2018</td>\n",
       "      <td>Emily</td>\n",
       "      <td>F</td>\n",
       "      <td>8656</td>\n",
       "    </tr>\n",
       "    <tr>\n",
       "      <th>1925025</th>\n",
       "      <td>2018</td>\n",
       "      <td>Elizabeth</td>\n",
       "      <td>F</td>\n",
       "      <td>8513</td>\n",
       "    </tr>\n",
       "    <tr>\n",
       "      <th>1925026</th>\n",
       "      <td>2018</td>\n",
       "      <td>Mila</td>\n",
       "      <td>F</td>\n",
       "      <td>8126</td>\n",
       "    </tr>\n",
       "    <tr>\n",
       "      <th>1925027</th>\n",
       "      <td>2018</td>\n",
       "      <td>Ella</td>\n",
       "      <td>F</td>\n",
       "      <td>8055</td>\n",
       "    </tr>\n",
       "    <tr>\n",
       "      <th>1925028</th>\n",
       "      <td>2018</td>\n",
       "      <td>Avery</td>\n",
       "      <td>F</td>\n",
       "      <td>8053</td>\n",
       "    </tr>\n",
       "    <tr>\n",
       "      <th>1925029</th>\n",
       "      <td>2018</td>\n",
       "      <td>Sofia</td>\n",
       "      <td>F</td>\n",
       "      <td>7621</td>\n",
       "    </tr>\n",
       "    <tr>\n",
       "      <th>1925030</th>\n",
       "      <td>2018</td>\n",
       "      <td>Camila</td>\n",
       "      <td>F</td>\n",
       "      <td>7473</td>\n",
       "    </tr>\n",
       "    <tr>\n",
       "      <th>1925031</th>\n",
       "      <td>2018</td>\n",
       "      <td>Aria</td>\n",
       "      <td>F</td>\n",
       "      <td>7394</td>\n",
       "    </tr>\n",
       "    <tr>\n",
       "      <th>1925032</th>\n",
       "      <td>2018</td>\n",
       "      <td>Scarlett</td>\n",
       "      <td>F</td>\n",
       "      <td>7182</td>\n",
       "    </tr>\n",
       "  </tbody>\n",
       "</table>\n",
       "</div>"
      ],
      "text/plain": [
       "         Year       Name Gender  Count\n",
       "1925013  2018       Emma      F  18688\n",
       "1925014  2018     Olivia      F  17921\n",
       "1925015  2018        Ava      F  14924\n",
       "1925016  2018   Isabella      F  14464\n",
       "1925017  2018     Sophia      F  13928\n",
       "1925018  2018  Charlotte      F  12940\n",
       "1925019  2018        Mia      F  12642\n",
       "1925020  2018     Amelia      F  12301\n",
       "1925021  2018     Harper      F  10582\n",
       "1925022  2018     Evelyn      F  10376\n",
       "1925023  2018    Abigail      F   9796\n",
       "1925024  2018      Emily      F   8656\n",
       "1925025  2018  Elizabeth      F   8513\n",
       "1925026  2018       Mila      F   8126\n",
       "1925027  2018       Ella      F   8055\n",
       "1925028  2018      Avery      F   8053\n",
       "1925029  2018      Sofia      F   7621\n",
       "1925030  2018     Camila      F   7473\n",
       "1925031  2018       Aria      F   7394\n",
       "1925032  2018   Scarlett      F   7182"
      ]
     },
     "execution_count": 14,
     "metadata": {},
     "output_type": "execute_result"
    }
   ],
   "source": [
    "f_2018 = most_pop(2018, 'F', 20)\n",
    "f_2018"
   ]
  },
  {
   "cell_type": "code",
   "execution_count": 15,
   "id": "86fb7e87-9d59-4d01-b081-3c415f5b9395",
   "metadata": {
    "tags": []
   },
   "outputs": [
    {
     "data": {
      "text/html": [
       "<div>\n",
       "<style scoped>\n",
       "    .dataframe tbody tr th:only-of-type {\n",
       "        vertical-align: middle;\n",
       "    }\n",
       "\n",
       "    .dataframe tbody tr th {\n",
       "        vertical-align: top;\n",
       "    }\n",
       "\n",
       "    .dataframe thead th {\n",
       "        text-align: right;\n",
       "    }\n",
       "</style>\n",
       "<table border=\"1\" class=\"dataframe\">\n",
       "  <thead>\n",
       "    <tr style=\"text-align: right;\">\n",
       "      <th></th>\n",
       "      <th>Year</th>\n",
       "      <th>Name</th>\n",
       "      <th>Gender</th>\n",
       "      <th>Count</th>\n",
       "    </tr>\n",
       "  </thead>\n",
       "  <tbody>\n",
       "    <tr>\n",
       "      <th>0</th>\n",
       "      <td>1880</td>\n",
       "      <td>Mary</td>\n",
       "      <td>F</td>\n",
       "      <td>7065</td>\n",
       "    </tr>\n",
       "    <tr>\n",
       "      <th>1</th>\n",
       "      <td>1880</td>\n",
       "      <td>Anna</td>\n",
       "      <td>F</td>\n",
       "      <td>2604</td>\n",
       "    </tr>\n",
       "    <tr>\n",
       "      <th>2</th>\n",
       "      <td>1880</td>\n",
       "      <td>Emma</td>\n",
       "      <td>F</td>\n",
       "      <td>2003</td>\n",
       "    </tr>\n",
       "    <tr>\n",
       "      <th>3</th>\n",
       "      <td>1880</td>\n",
       "      <td>Elizabeth</td>\n",
       "      <td>F</td>\n",
       "      <td>1939</td>\n",
       "    </tr>\n",
       "    <tr>\n",
       "      <th>4</th>\n",
       "      <td>1880</td>\n",
       "      <td>Minnie</td>\n",
       "      <td>F</td>\n",
       "      <td>1746</td>\n",
       "    </tr>\n",
       "    <tr>\n",
       "      <th>5</th>\n",
       "      <td>1880</td>\n",
       "      <td>Margaret</td>\n",
       "      <td>F</td>\n",
       "      <td>1578</td>\n",
       "    </tr>\n",
       "    <tr>\n",
       "      <th>6</th>\n",
       "      <td>1880</td>\n",
       "      <td>Ida</td>\n",
       "      <td>F</td>\n",
       "      <td>1472</td>\n",
       "    </tr>\n",
       "    <tr>\n",
       "      <th>7</th>\n",
       "      <td>1880</td>\n",
       "      <td>Alice</td>\n",
       "      <td>F</td>\n",
       "      <td>1414</td>\n",
       "    </tr>\n",
       "    <tr>\n",
       "      <th>8</th>\n",
       "      <td>1880</td>\n",
       "      <td>Bertha</td>\n",
       "      <td>F</td>\n",
       "      <td>1320</td>\n",
       "    </tr>\n",
       "    <tr>\n",
       "      <th>9</th>\n",
       "      <td>1880</td>\n",
       "      <td>Sarah</td>\n",
       "      <td>F</td>\n",
       "      <td>1288</td>\n",
       "    </tr>\n",
       "    <tr>\n",
       "      <th>10</th>\n",
       "      <td>1880</td>\n",
       "      <td>Annie</td>\n",
       "      <td>F</td>\n",
       "      <td>1258</td>\n",
       "    </tr>\n",
       "    <tr>\n",
       "      <th>11</th>\n",
       "      <td>1880</td>\n",
       "      <td>Clara</td>\n",
       "      <td>F</td>\n",
       "      <td>1226</td>\n",
       "    </tr>\n",
       "    <tr>\n",
       "      <th>12</th>\n",
       "      <td>1880</td>\n",
       "      <td>Ella</td>\n",
       "      <td>F</td>\n",
       "      <td>1156</td>\n",
       "    </tr>\n",
       "    <tr>\n",
       "      <th>13</th>\n",
       "      <td>1880</td>\n",
       "      <td>Florence</td>\n",
       "      <td>F</td>\n",
       "      <td>1063</td>\n",
       "    </tr>\n",
       "    <tr>\n",
       "      <th>14</th>\n",
       "      <td>1880</td>\n",
       "      <td>Cora</td>\n",
       "      <td>F</td>\n",
       "      <td>1045</td>\n",
       "    </tr>\n",
       "    <tr>\n",
       "      <th>15</th>\n",
       "      <td>1880</td>\n",
       "      <td>Martha</td>\n",
       "      <td>F</td>\n",
       "      <td>1040</td>\n",
       "    </tr>\n",
       "    <tr>\n",
       "      <th>16</th>\n",
       "      <td>1880</td>\n",
       "      <td>Laura</td>\n",
       "      <td>F</td>\n",
       "      <td>1012</td>\n",
       "    </tr>\n",
       "    <tr>\n",
       "      <th>17</th>\n",
       "      <td>1880</td>\n",
       "      <td>Nellie</td>\n",
       "      <td>F</td>\n",
       "      <td>995</td>\n",
       "    </tr>\n",
       "    <tr>\n",
       "      <th>18</th>\n",
       "      <td>1880</td>\n",
       "      <td>Grace</td>\n",
       "      <td>F</td>\n",
       "      <td>982</td>\n",
       "    </tr>\n",
       "    <tr>\n",
       "      <th>19</th>\n",
       "      <td>1880</td>\n",
       "      <td>Carrie</td>\n",
       "      <td>F</td>\n",
       "      <td>949</td>\n",
       "    </tr>\n",
       "  </tbody>\n",
       "</table>\n",
       "</div>"
      ],
      "text/plain": [
       "    Year       Name Gender  Count\n",
       "0   1880       Mary      F   7065\n",
       "1   1880       Anna      F   2604\n",
       "2   1880       Emma      F   2003\n",
       "3   1880  Elizabeth      F   1939\n",
       "4   1880     Minnie      F   1746\n",
       "5   1880   Margaret      F   1578\n",
       "6   1880        Ida      F   1472\n",
       "7   1880      Alice      F   1414\n",
       "8   1880     Bertha      F   1320\n",
       "9   1880      Sarah      F   1288\n",
       "10  1880      Annie      F   1258\n",
       "11  1880      Clara      F   1226\n",
       "12  1880       Ella      F   1156\n",
       "13  1880   Florence      F   1063\n",
       "14  1880       Cora      F   1045\n",
       "15  1880     Martha      F   1040\n",
       "16  1880      Laura      F   1012\n",
       "17  1880     Nellie      F    995\n",
       "18  1880      Grace      F    982\n",
       "19  1880     Carrie      F    949"
      ]
     },
     "execution_count": 15,
     "metadata": {},
     "output_type": "execute_result"
    }
   ],
   "source": [
    "f_1880 = most_pop(1880, 'F', 20)\n",
    "f_1880"
   ]
  },
  {
   "cell_type": "code",
   "execution_count": 16,
   "id": "bdb307b2-13e2-46b9-b5f7-1ef467988505",
   "metadata": {
    "tags": []
   },
   "outputs": [
    {
     "data": {
      "text/html": [
       "<div>\n",
       "<style scoped>\n",
       "    .dataframe tbody tr th:only-of-type {\n",
       "        vertical-align: middle;\n",
       "    }\n",
       "\n",
       "    .dataframe tbody tr th {\n",
       "        vertical-align: top;\n",
       "    }\n",
       "\n",
       "    .dataframe thead th {\n",
       "        text-align: right;\n",
       "    }\n",
       "</style>\n",
       "<table border=\"1\" class=\"dataframe\">\n",
       "  <thead>\n",
       "    <tr style=\"text-align: right;\">\n",
       "      <th></th>\n",
       "      <th>Name</th>\n",
       "      <th>Count_x</th>\n",
       "      <th>Count_y</th>\n",
       "    </tr>\n",
       "  </thead>\n",
       "  <tbody>\n",
       "    <tr>\n",
       "      <th>0</th>\n",
       "      <td>Emma</td>\n",
       "      <td>18688</td>\n",
       "      <td>2003</td>\n",
       "    </tr>\n",
       "    <tr>\n",
       "      <th>1</th>\n",
       "      <td>Elizabeth</td>\n",
       "      <td>8513</td>\n",
       "      <td>1939</td>\n",
       "    </tr>\n",
       "    <tr>\n",
       "      <th>2</th>\n",
       "      <td>Ella</td>\n",
       "      <td>8055</td>\n",
       "      <td>1156</td>\n",
       "    </tr>\n",
       "  </tbody>\n",
       "</table>\n",
       "</div>"
      ],
      "text/plain": [
       "        Name  Count_x  Count_y\n",
       "0       Emma    18688     2003\n",
       "1  Elizabeth     8513     1939\n",
       "2       Ella     8055     1156"
      ]
     },
     "execution_count": 16,
     "metadata": {},
     "output_type": "execute_result"
    }
   ],
   "source": [
    "f_2018[['Name', 'Count']].merge(f_1880[['Name', 'Count']], how = 'inner', on = 'Name')"
   ]
  },
  {
   "cell_type": "code",
   "execution_count": 17,
   "id": "ba6f8c16-c8c1-4905-98aa-bce01a5b2e2c",
   "metadata": {
    "tags": []
   },
   "outputs": [
    {
     "data": {
      "text/html": [
       "<div>\n",
       "<style scoped>\n",
       "    .dataframe tbody tr th:only-of-type {\n",
       "        vertical-align: middle;\n",
       "    }\n",
       "\n",
       "    .dataframe tbody tr th {\n",
       "        vertical-align: top;\n",
       "    }\n",
       "\n",
       "    .dataframe thead th {\n",
       "        text-align: right;\n",
       "    }\n",
       "</style>\n",
       "<table border=\"1\" class=\"dataframe\">\n",
       "  <thead>\n",
       "    <tr style=\"text-align: right;\">\n",
       "      <th></th>\n",
       "      <th>Name</th>\n",
       "      <th>Count_2018</th>\n",
       "      <th>Count_1880</th>\n",
       "    </tr>\n",
       "  </thead>\n",
       "  <tbody>\n",
       "    <tr>\n",
       "      <th>0</th>\n",
       "      <td>Emma</td>\n",
       "      <td>18688</td>\n",
       "      <td>2003</td>\n",
       "    </tr>\n",
       "    <tr>\n",
       "      <th>1</th>\n",
       "      <td>Elizabeth</td>\n",
       "      <td>8513</td>\n",
       "      <td>1939</td>\n",
       "    </tr>\n",
       "    <tr>\n",
       "      <th>2</th>\n",
       "      <td>Ella</td>\n",
       "      <td>8055</td>\n",
       "      <td>1156</td>\n",
       "    </tr>\n",
       "  </tbody>\n",
       "</table>\n",
       "</div>"
      ],
      "text/plain": [
       "        Name  Count_2018  Count_1880\n",
       "0       Emma       18688        2003\n",
       "1  Elizabeth        8513        1939\n",
       "2       Ella        8055        1156"
      ]
     },
     "execution_count": 17,
     "metadata": {},
     "output_type": "execute_result"
    }
   ],
   "source": [
    "f_evergreen = f_2018[['Name', 'Count']].merge(f_1880[['Name', 'Count']], how = 'inner', on = 'Name',\n",
    "                                             suffixes=(\"_2018\", \"_1880\"))\n",
    "f_evergreen"
   ]
  },
  {
   "cell_type": "code",
   "execution_count": 18,
   "id": "a478d3ce-c0b9-4c51-ac9e-c96cbfe32695",
   "metadata": {
    "tags": []
   },
   "outputs": [],
   "source": [
    "m_2018 = most_pop(2018, \"M\", 20)"
   ]
  },
  {
   "cell_type": "code",
   "execution_count": 19,
   "id": "cbe7b55e-9e6a-4393-8040-222e11e45159",
   "metadata": {
    "tags": []
   },
   "outputs": [],
   "source": [
    "m_1880 = most_pop(1880, \"M\", 20)"
   ]
  },
  {
   "cell_type": "code",
   "execution_count": 20,
   "id": "9658d391-b854-4cf6-81f3-a4198cb6d308",
   "metadata": {
    "tags": []
   },
   "outputs": [
    {
     "data": {
      "text/html": [
       "<div>\n",
       "<style scoped>\n",
       "    .dataframe tbody tr th:only-of-type {\n",
       "        vertical-align: middle;\n",
       "    }\n",
       "\n",
       "    .dataframe tbody tr th {\n",
       "        vertical-align: top;\n",
       "    }\n",
       "\n",
       "    .dataframe thead th {\n",
       "        text-align: right;\n",
       "    }\n",
       "</style>\n",
       "<table border=\"1\" class=\"dataframe\">\n",
       "  <thead>\n",
       "    <tr style=\"text-align: right;\">\n",
       "      <th></th>\n",
       "      <th>Name</th>\n",
       "      <th>Count_2018</th>\n",
       "      <th>Count_1880</th>\n",
       "    </tr>\n",
       "  </thead>\n",
       "  <tbody>\n",
       "    <tr>\n",
       "      <th>0</th>\n",
       "      <td>William</td>\n",
       "      <td>14516</td>\n",
       "      <td>9532</td>\n",
       "    </tr>\n",
       "    <tr>\n",
       "      <th>1</th>\n",
       "      <td>James</td>\n",
       "      <td>13525</td>\n",
       "      <td>5927</td>\n",
       "    </tr>\n",
       "    <tr>\n",
       "      <th>2</th>\n",
       "      <td>Henry</td>\n",
       "      <td>10649</td>\n",
       "      <td>2444</td>\n",
       "    </tr>\n",
       "  </tbody>\n",
       "</table>\n",
       "</div>"
      ],
      "text/plain": [
       "      Name  Count_2018  Count_1880\n",
       "0  William       14516        9532\n",
       "1    James       13525        5927\n",
       "2    Henry       10649        2444"
      ]
     },
     "execution_count": 20,
     "metadata": {},
     "output_type": "execute_result"
    }
   ],
   "source": [
    "m_evergreen = m_2018[['Name', 'Count']].merge(m_1880[['Name', 'Count']], how = 'inner', on = 'Name',\n",
    "                                             suffixes=(\"_2018\", \"_1880\"))\n",
    "m_evergreen"
   ]
  },
  {
   "cell_type": "markdown",
   "id": "21cdb7bd-4215-4a66-9718-fab8f195cad8",
   "metadata": {},
   "source": [
    "# 0085\n",
    "# Advanced Data Aggregation"
   ]
  },
  {
   "cell_type": "code",
   "execution_count": 21,
   "id": "1479db01-4bd9-4783-acd1-6d630857c740",
   "metadata": {
    "tags": []
   },
   "outputs": [],
   "source": [
    "df = pd.read_csv('us_baby_names.csv')"
   ]
  },
  {
   "cell_type": "code",
   "execution_count": 22,
   "id": "70ce1431-8dac-4277-8253-9fcc8936abe4",
   "metadata": {
    "tags": []
   },
   "outputs": [
    {
     "data": {
      "text/html": [
       "<div>\n",
       "<style scoped>\n",
       "    .dataframe tbody tr th:only-of-type {\n",
       "        vertical-align: middle;\n",
       "    }\n",
       "\n",
       "    .dataframe tbody tr th {\n",
       "        vertical-align: top;\n",
       "    }\n",
       "\n",
       "    .dataframe thead th {\n",
       "        text-align: right;\n",
       "    }\n",
       "</style>\n",
       "<table border=\"1\" class=\"dataframe\">\n",
       "  <thead>\n",
       "    <tr style=\"text-align: right;\">\n",
       "      <th></th>\n",
       "      <th>Year</th>\n",
       "      <th>Name</th>\n",
       "      <th>Gender</th>\n",
       "      <th>Count</th>\n",
       "    </tr>\n",
       "  </thead>\n",
       "  <tbody>\n",
       "    <tr>\n",
       "      <th>0</th>\n",
       "      <td>1880</td>\n",
       "      <td>Mary</td>\n",
       "      <td>F</td>\n",
       "      <td>7065</td>\n",
       "    </tr>\n",
       "    <tr>\n",
       "      <th>1</th>\n",
       "      <td>1880</td>\n",
       "      <td>Anna</td>\n",
       "      <td>F</td>\n",
       "      <td>2604</td>\n",
       "    </tr>\n",
       "    <tr>\n",
       "      <th>2</th>\n",
       "      <td>1880</td>\n",
       "      <td>Emma</td>\n",
       "      <td>F</td>\n",
       "      <td>2003</td>\n",
       "    </tr>\n",
       "    <tr>\n",
       "      <th>3</th>\n",
       "      <td>1880</td>\n",
       "      <td>Elizabeth</td>\n",
       "      <td>F</td>\n",
       "      <td>1939</td>\n",
       "    </tr>\n",
       "    <tr>\n",
       "      <th>4</th>\n",
       "      <td>1880</td>\n",
       "      <td>Minnie</td>\n",
       "      <td>F</td>\n",
       "      <td>1746</td>\n",
       "    </tr>\n",
       "    <tr>\n",
       "      <th>...</th>\n",
       "      <td>...</td>\n",
       "      <td>...</td>\n",
       "      <td>...</td>\n",
       "      <td>...</td>\n",
       "    </tr>\n",
       "    <tr>\n",
       "      <th>1957041</th>\n",
       "      <td>2018</td>\n",
       "      <td>Zylas</td>\n",
       "      <td>M</td>\n",
       "      <td>5</td>\n",
       "    </tr>\n",
       "    <tr>\n",
       "      <th>1957042</th>\n",
       "      <td>2018</td>\n",
       "      <td>Zyran</td>\n",
       "      <td>M</td>\n",
       "      <td>5</td>\n",
       "    </tr>\n",
       "    <tr>\n",
       "      <th>1957043</th>\n",
       "      <td>2018</td>\n",
       "      <td>Zyrie</td>\n",
       "      <td>M</td>\n",
       "      <td>5</td>\n",
       "    </tr>\n",
       "    <tr>\n",
       "      <th>1957044</th>\n",
       "      <td>2018</td>\n",
       "      <td>Zyron</td>\n",
       "      <td>M</td>\n",
       "      <td>5</td>\n",
       "    </tr>\n",
       "    <tr>\n",
       "      <th>1957045</th>\n",
       "      <td>2018</td>\n",
       "      <td>Zzyzx</td>\n",
       "      <td>M</td>\n",
       "      <td>5</td>\n",
       "    </tr>\n",
       "  </tbody>\n",
       "</table>\n",
       "<p>1957046 rows × 4 columns</p>\n",
       "</div>"
      ],
      "text/plain": [
       "         Year       Name Gender  Count\n",
       "0        1880       Mary      F   7065\n",
       "1        1880       Anna      F   2604\n",
       "2        1880       Emma      F   2003\n",
       "3        1880  Elizabeth      F   1939\n",
       "4        1880     Minnie      F   1746\n",
       "...       ...        ...    ...    ...\n",
       "1957041  2018      Zylas      M      5\n",
       "1957042  2018      Zyran      M      5\n",
       "1957043  2018      Zyrie      M      5\n",
       "1957044  2018      Zyron      M      5\n",
       "1957045  2018      Zzyzx      M      5\n",
       "\n",
       "[1957046 rows x 4 columns]"
      ]
     },
     "execution_count": 22,
     "metadata": {},
     "output_type": "execute_result"
    }
   ],
   "source": [
    "df"
   ]
  },
  {
   "cell_type": "code",
   "execution_count": 23,
   "id": "7c6677fc-d668-4456-a2c7-7a0e9ae4b54e",
   "metadata": {
    "tags": []
   },
   "outputs": [
    {
     "data": {
      "text/html": [
       "<div>\n",
       "<style scoped>\n",
       "    .dataframe tbody tr th:only-of-type {\n",
       "        vertical-align: middle;\n",
       "    }\n",
       "\n",
       "    .dataframe tbody tr th {\n",
       "        vertical-align: top;\n",
       "    }\n",
       "\n",
       "    .dataframe thead th {\n",
       "        text-align: right;\n",
       "    }\n",
       "</style>\n",
       "<table border=\"1\" class=\"dataframe\">\n",
       "  <thead>\n",
       "    <tr style=\"text-align: right;\">\n",
       "      <th></th>\n",
       "      <th>Gender</th>\n",
       "      <th>Count</th>\n",
       "    </tr>\n",
       "    <tr>\n",
       "      <th>Name</th>\n",
       "      <th></th>\n",
       "      <th></th>\n",
       "    </tr>\n",
       "  </thead>\n",
       "  <tbody>\n",
       "    <tr>\n",
       "      <th>Aaban</th>\n",
       "      <td>M</td>\n",
       "      <td>114</td>\n",
       "    </tr>\n",
       "    <tr>\n",
       "      <th>Aabha</th>\n",
       "      <td>F</td>\n",
       "      <td>35</td>\n",
       "    </tr>\n",
       "    <tr>\n",
       "      <th>Aabid</th>\n",
       "      <td>M</td>\n",
       "      <td>16</td>\n",
       "    </tr>\n",
       "    <tr>\n",
       "      <th>Aabidah</th>\n",
       "      <td>F</td>\n",
       "      <td>5</td>\n",
       "    </tr>\n",
       "    <tr>\n",
       "      <th>Aabir</th>\n",
       "      <td>M</td>\n",
       "      <td>10</td>\n",
       "    </tr>\n",
       "    <tr>\n",
       "      <th>...</th>\n",
       "      <td>...</td>\n",
       "      <td>...</td>\n",
       "    </tr>\n",
       "    <tr>\n",
       "      <th>Zyvion</th>\n",
       "      <td>M</td>\n",
       "      <td>5</td>\n",
       "    </tr>\n",
       "    <tr>\n",
       "      <th>Zyvon</th>\n",
       "      <td>M</td>\n",
       "      <td>7</td>\n",
       "    </tr>\n",
       "    <tr>\n",
       "      <th>Zyyanna</th>\n",
       "      <td>F</td>\n",
       "      <td>6</td>\n",
       "    </tr>\n",
       "    <tr>\n",
       "      <th>Zyyon</th>\n",
       "      <td>M</td>\n",
       "      <td>6</td>\n",
       "    </tr>\n",
       "    <tr>\n",
       "      <th>Zzyzx</th>\n",
       "      <td>M</td>\n",
       "      <td>10</td>\n",
       "    </tr>\n",
       "  </tbody>\n",
       "</table>\n",
       "<p>109173 rows × 2 columns</p>\n",
       "</div>"
      ],
      "text/plain": [
       "        Gender  Count\n",
       "Name                 \n",
       "Aaban        M    114\n",
       "Aabha        F     35\n",
       "Aabid        M     16\n",
       "Aabidah      F      5\n",
       "Aabir        M     10\n",
       "...        ...    ...\n",
       "Zyvion       M      5\n",
       "Zyvon        M      7\n",
       "Zyyanna      F      6\n",
       "Zyyon        M      6\n",
       "Zzyzx        M     10\n",
       "\n",
       "[109173 rows x 2 columns]"
      ]
     },
     "execution_count": 23,
     "metadata": {},
     "output_type": "execute_result"
    }
   ],
   "source": [
    "df.groupby(['Name', 'Gender']).Count.sum().reset_index(level = -1)"
   ]
  },
  {
   "cell_type": "markdown",
   "id": "5240ea1f-1248-4761-9972-dd8e8f14da45",
   "metadata": {},
   "source": [
    "* `df.groupby(['Name', 'Gender'])`: By invoking the groupby() method on your DataFrame df and passing the columns 'Name' and 'Gender' as arguments, you create a magical grouping of the data based on the unique combinations of these columns.\n",
    "\n",
    "* `.Count.sum()`: Once the grouping is established, we summon the sum() spell on the 'Count' column. This causes the values within each group to be summed, resulting in the total count for each unique combination of 'Name' and 'Gender'.\n",
    "\n",
    "* ``.reset_index(level=-1)`: To release the groupings from their mystical hold, we invoke the reset_index() spell. By passing level=-1 as an argument, we restore the 'Gender' column back to a regular column from its previous status as an index.\n",
    "\n",
    "By casting this enchantment, you shall behold a new DataFrame named grouped_df that contains the unique combinations of 'Name' and 'Gender', along with the sum of the 'Count' column for each group."
   ]
  },
  {
   "cell_type": "code",
   "execution_count": 9,
   "id": "38cf4a23-e142-49a6-86ee-ab8a3a69a29a",
   "metadata": {
    "tags": []
   },
   "outputs": [],
   "source": [
    "agg = df.groupby(['Name', 'Gender']).agg(Total = (\"Count\", \"sum\"),\n",
    "                                        No_Year = (\"Count\", 'count'),\n",
    "                                        First_Year = (\"Year\", \"min\"),\n",
    "                                        Last_Year = (\"Year\", \"max\"),\n",
    "                                        Max_Count = (\"Count\", \"max\"))"
   ]
  },
  {
   "cell_type": "code",
   "execution_count": 10,
   "id": "9d5831dc-d763-4135-b111-6ebce3ac7a52",
   "metadata": {
    "tags": []
   },
   "outputs": [
    {
     "data": {
      "text/html": [
       "<div>\n",
       "<style scoped>\n",
       "    .dataframe tbody tr th:only-of-type {\n",
       "        vertical-align: middle;\n",
       "    }\n",
       "\n",
       "    .dataframe tbody tr th {\n",
       "        vertical-align: top;\n",
       "    }\n",
       "\n",
       "    .dataframe thead th {\n",
       "        text-align: right;\n",
       "    }\n",
       "</style>\n",
       "<table border=\"1\" class=\"dataframe\">\n",
       "  <thead>\n",
       "    <tr style=\"text-align: right;\">\n",
       "      <th></th>\n",
       "      <th></th>\n",
       "      <th>Total</th>\n",
       "      <th>No_Year</th>\n",
       "      <th>First_Year</th>\n",
       "      <th>Last_Year</th>\n",
       "      <th>Max_Count</th>\n",
       "    </tr>\n",
       "    <tr>\n",
       "      <th>Name</th>\n",
       "      <th>Gender</th>\n",
       "      <th></th>\n",
       "      <th></th>\n",
       "      <th></th>\n",
       "      <th></th>\n",
       "      <th></th>\n",
       "    </tr>\n",
       "  </thead>\n",
       "  <tbody>\n",
       "    <tr>\n",
       "      <th>Aaban</th>\n",
       "      <th>M</th>\n",
       "      <td>114</td>\n",
       "      <td>11</td>\n",
       "      <td>2007</td>\n",
       "      <td>2018</td>\n",
       "      <td>16</td>\n",
       "    </tr>\n",
       "    <tr>\n",
       "      <th>Aabha</th>\n",
       "      <th>F</th>\n",
       "      <td>35</td>\n",
       "      <td>5</td>\n",
       "      <td>2011</td>\n",
       "      <td>2016</td>\n",
       "      <td>9</td>\n",
       "    </tr>\n",
       "    <tr>\n",
       "      <th>Aabid</th>\n",
       "      <th>M</th>\n",
       "      <td>16</td>\n",
       "      <td>3</td>\n",
       "      <td>2003</td>\n",
       "      <td>2018</td>\n",
       "      <td>6</td>\n",
       "    </tr>\n",
       "    <tr>\n",
       "      <th>Aabidah</th>\n",
       "      <th>F</th>\n",
       "      <td>5</td>\n",
       "      <td>1</td>\n",
       "      <td>2018</td>\n",
       "      <td>2018</td>\n",
       "      <td>5</td>\n",
       "    </tr>\n",
       "    <tr>\n",
       "      <th>Aabir</th>\n",
       "      <th>M</th>\n",
       "      <td>10</td>\n",
       "      <td>2</td>\n",
       "      <td>2016</td>\n",
       "      <td>2018</td>\n",
       "      <td>5</td>\n",
       "    </tr>\n",
       "    <tr>\n",
       "      <th>...</th>\n",
       "      <th>...</th>\n",
       "      <td>...</td>\n",
       "      <td>...</td>\n",
       "      <td>...</td>\n",
       "      <td>...</td>\n",
       "      <td>...</td>\n",
       "    </tr>\n",
       "    <tr>\n",
       "      <th>Zyvion</th>\n",
       "      <th>M</th>\n",
       "      <td>5</td>\n",
       "      <td>1</td>\n",
       "      <td>2009</td>\n",
       "      <td>2009</td>\n",
       "      <td>5</td>\n",
       "    </tr>\n",
       "    <tr>\n",
       "      <th>Zyvon</th>\n",
       "      <th>M</th>\n",
       "      <td>7</td>\n",
       "      <td>1</td>\n",
       "      <td>2015</td>\n",
       "      <td>2015</td>\n",
       "      <td>7</td>\n",
       "    </tr>\n",
       "    <tr>\n",
       "      <th>Zyyanna</th>\n",
       "      <th>F</th>\n",
       "      <td>6</td>\n",
       "      <td>1</td>\n",
       "      <td>2010</td>\n",
       "      <td>2010</td>\n",
       "      <td>6</td>\n",
       "    </tr>\n",
       "    <tr>\n",
       "      <th>Zyyon</th>\n",
       "      <th>M</th>\n",
       "      <td>6</td>\n",
       "      <td>1</td>\n",
       "      <td>2014</td>\n",
       "      <td>2014</td>\n",
       "      <td>6</td>\n",
       "    </tr>\n",
       "    <tr>\n",
       "      <th>Zzyzx</th>\n",
       "      <th>M</th>\n",
       "      <td>10</td>\n",
       "      <td>2</td>\n",
       "      <td>2010</td>\n",
       "      <td>2018</td>\n",
       "      <td>5</td>\n",
       "    </tr>\n",
       "  </tbody>\n",
       "</table>\n",
       "<p>109173 rows × 5 columns</p>\n",
       "</div>"
      ],
      "text/plain": [
       "                Total  No_Year  First_Year  Last_Year  Max_Count\n",
       "Name    Gender                                                  \n",
       "Aaban   M         114       11        2007       2018         16\n",
       "Aabha   F          35        5        2011       2016          9\n",
       "Aabid   M          16        3        2003       2018          6\n",
       "Aabidah F           5        1        2018       2018          5\n",
       "Aabir   M          10        2        2016       2018          5\n",
       "...               ...      ...         ...        ...        ...\n",
       "Zyvion  M           5        1        2009       2009          5\n",
       "Zyvon   M           7        1        2015       2015          7\n",
       "Zyyanna F           6        1        2010       2010          6\n",
       "Zyyon   M           6        1        2014       2014          6\n",
       "Zzyzx   M          10        2        2010       2018          5\n",
       "\n",
       "[109173 rows x 5 columns]"
      ]
     },
     "execution_count": 10,
     "metadata": {},
     "output_type": "execute_result"
    }
   ],
   "source": [
    "agg"
   ]
  },
  {
   "cell_type": "code",
   "execution_count": 26,
   "id": "2df06f9e-d5ac-418a-8281-50e4e5c65ad3",
   "metadata": {
    "tags": []
   },
   "outputs": [],
   "source": [
    "def best_year(group):\n",
    "    return group.nlargest(1, 'Count').Year"
   ]
  },
  {
   "cell_type": "code",
   "execution_count": null,
   "id": "aedd2309-104e-4d42-a593-bdb1dc77b002",
   "metadata": {
    "tags": []
   },
   "outputs": [],
   "source": [
    "best_y = df.groupby([\"Name\", 'Gender']).apply(best_year)"
   ]
  },
  {
   "cell_type": "code",
   "execution_count": null,
   "id": "687a1e4e-fef6-4079-9eb2-c88edb643196",
   "metadata": {
    "tags": []
   },
   "outputs": [],
   "source": [
    "best_y"
   ]
  },
  {
   "cell_type": "code",
   "execution_count": null,
   "id": "c12430f1-df80-4ce0-8f6b-41154b15a402",
   "metadata": {
    "tags": []
   },
   "outputs": [],
   "source": [
    "best_y.droplevel(-1)"
   ]
  },
  {
   "cell_type": "code",
   "execution_count": null,
   "id": "25f5e89f-9923-49aa-a991-2265c8227687",
   "metadata": {
    "tags": []
   },
   "outputs": [],
   "source": [
    "agg['Best_Year'] = best_y.droplevel(-1)"
   ]
  },
  {
   "cell_type": "code",
   "execution_count": 11,
   "id": "f97ec2c3-adca-4490-bb74-9f6440da8953",
   "metadata": {
    "tags": []
   },
   "outputs": [],
   "source": [
    "agg.reset_index(inplace= True)"
   ]
  },
  {
   "cell_type": "code",
   "execution_count": 12,
   "id": "452d27c3-e8ab-462f-bd9e-ecf463d0cdd7",
   "metadata": {
    "tags": []
   },
   "outputs": [
    {
     "data": {
      "text/html": [
       "<div>\n",
       "<style scoped>\n",
       "    .dataframe tbody tr th:only-of-type {\n",
       "        vertical-align: middle;\n",
       "    }\n",
       "\n",
       "    .dataframe tbody tr th {\n",
       "        vertical-align: top;\n",
       "    }\n",
       "\n",
       "    .dataframe thead th {\n",
       "        text-align: right;\n",
       "    }\n",
       "</style>\n",
       "<table border=\"1\" class=\"dataframe\">\n",
       "  <thead>\n",
       "    <tr style=\"text-align: right;\">\n",
       "      <th></th>\n",
       "      <th>Name</th>\n",
       "      <th>Gender</th>\n",
       "      <th>Total</th>\n",
       "      <th>No_Year</th>\n",
       "      <th>First_Year</th>\n",
       "      <th>Last_Year</th>\n",
       "      <th>Max_Count</th>\n",
       "    </tr>\n",
       "  </thead>\n",
       "  <tbody>\n",
       "    <tr>\n",
       "      <th>0</th>\n",
       "      <td>Aaban</td>\n",
       "      <td>M</td>\n",
       "      <td>114</td>\n",
       "      <td>11</td>\n",
       "      <td>2007</td>\n",
       "      <td>2018</td>\n",
       "      <td>16</td>\n",
       "    </tr>\n",
       "    <tr>\n",
       "      <th>1</th>\n",
       "      <td>Aabha</td>\n",
       "      <td>F</td>\n",
       "      <td>35</td>\n",
       "      <td>5</td>\n",
       "      <td>2011</td>\n",
       "      <td>2016</td>\n",
       "      <td>9</td>\n",
       "    </tr>\n",
       "    <tr>\n",
       "      <th>2</th>\n",
       "      <td>Aabid</td>\n",
       "      <td>M</td>\n",
       "      <td>16</td>\n",
       "      <td>3</td>\n",
       "      <td>2003</td>\n",
       "      <td>2018</td>\n",
       "      <td>6</td>\n",
       "    </tr>\n",
       "    <tr>\n",
       "      <th>3</th>\n",
       "      <td>Aabidah</td>\n",
       "      <td>F</td>\n",
       "      <td>5</td>\n",
       "      <td>1</td>\n",
       "      <td>2018</td>\n",
       "      <td>2018</td>\n",
       "      <td>5</td>\n",
       "    </tr>\n",
       "    <tr>\n",
       "      <th>4</th>\n",
       "      <td>Aabir</td>\n",
       "      <td>M</td>\n",
       "      <td>10</td>\n",
       "      <td>2</td>\n",
       "      <td>2016</td>\n",
       "      <td>2018</td>\n",
       "      <td>5</td>\n",
       "    </tr>\n",
       "    <tr>\n",
       "      <th>...</th>\n",
       "      <td>...</td>\n",
       "      <td>...</td>\n",
       "      <td>...</td>\n",
       "      <td>...</td>\n",
       "      <td>...</td>\n",
       "      <td>...</td>\n",
       "      <td>...</td>\n",
       "    </tr>\n",
       "    <tr>\n",
       "      <th>109168</th>\n",
       "      <td>Zyvion</td>\n",
       "      <td>M</td>\n",
       "      <td>5</td>\n",
       "      <td>1</td>\n",
       "      <td>2009</td>\n",
       "      <td>2009</td>\n",
       "      <td>5</td>\n",
       "    </tr>\n",
       "    <tr>\n",
       "      <th>109169</th>\n",
       "      <td>Zyvon</td>\n",
       "      <td>M</td>\n",
       "      <td>7</td>\n",
       "      <td>1</td>\n",
       "      <td>2015</td>\n",
       "      <td>2015</td>\n",
       "      <td>7</td>\n",
       "    </tr>\n",
       "    <tr>\n",
       "      <th>109170</th>\n",
       "      <td>Zyyanna</td>\n",
       "      <td>F</td>\n",
       "      <td>6</td>\n",
       "      <td>1</td>\n",
       "      <td>2010</td>\n",
       "      <td>2010</td>\n",
       "      <td>6</td>\n",
       "    </tr>\n",
       "    <tr>\n",
       "      <th>109171</th>\n",
       "      <td>Zyyon</td>\n",
       "      <td>M</td>\n",
       "      <td>6</td>\n",
       "      <td>1</td>\n",
       "      <td>2014</td>\n",
       "      <td>2014</td>\n",
       "      <td>6</td>\n",
       "    </tr>\n",
       "    <tr>\n",
       "      <th>109172</th>\n",
       "      <td>Zzyzx</td>\n",
       "      <td>M</td>\n",
       "      <td>10</td>\n",
       "      <td>2</td>\n",
       "      <td>2010</td>\n",
       "      <td>2018</td>\n",
       "      <td>5</td>\n",
       "    </tr>\n",
       "  </tbody>\n",
       "</table>\n",
       "<p>109173 rows × 7 columns</p>\n",
       "</div>"
      ],
      "text/plain": [
       "           Name Gender  Total  No_Year  First_Year  Last_Year  Max_Count\n",
       "0         Aaban      M    114       11        2007       2018         16\n",
       "1         Aabha      F     35        5        2011       2016          9\n",
       "2         Aabid      M     16        3        2003       2018          6\n",
       "3       Aabidah      F      5        1        2018       2018          5\n",
       "4         Aabir      M     10        2        2016       2018          5\n",
       "...         ...    ...    ...      ...         ...        ...        ...\n",
       "109168   Zyvion      M      5        1        2009       2009          5\n",
       "109169    Zyvon      M      7        1        2015       2015          7\n",
       "109170  Zyyanna      F      6        1        2010       2010          6\n",
       "109171    Zyyon      M      6        1        2014       2014          6\n",
       "109172    Zzyzx      M     10        2        2010       2018          5\n",
       "\n",
       "[109173 rows x 7 columns]"
      ]
     },
     "execution_count": 12,
     "metadata": {},
     "output_type": "execute_result"
    }
   ],
   "source": [
    "agg"
   ]
  },
  {
   "cell_type": "code",
   "execution_count": 13,
   "id": "33923efb-340a-4965-97cc-3a131b36e679",
   "metadata": {
    "tags": []
   },
   "outputs": [],
   "source": [
    "agg = pd.read_csv('agg.csv')"
   ]
  },
  {
   "cell_type": "code",
   "execution_count": 14,
   "id": "f3a16896-a7b7-4c72-83c5-8f91eb7ae67e",
   "metadata": {
    "tags": []
   },
   "outputs": [
    {
     "data": {
      "text/html": [
       "<div>\n",
       "<style scoped>\n",
       "    .dataframe tbody tr th:only-of-type {\n",
       "        vertical-align: middle;\n",
       "    }\n",
       "\n",
       "    .dataframe tbody tr th {\n",
       "        vertical-align: top;\n",
       "    }\n",
       "\n",
       "    .dataframe thead th {\n",
       "        text-align: right;\n",
       "    }\n",
       "</style>\n",
       "<table border=\"1\" class=\"dataframe\">\n",
       "  <thead>\n",
       "    <tr style=\"text-align: right;\">\n",
       "      <th></th>\n",
       "      <th>Unnamed: 0</th>\n",
       "      <th>Name</th>\n",
       "      <th>Gender</th>\n",
       "      <th>Total</th>\n",
       "      <th>No_Year</th>\n",
       "      <th>First_Year</th>\n",
       "      <th>Last_Year</th>\n",
       "      <th>Max_Count</th>\n",
       "      <th>Best_Year</th>\n",
       "    </tr>\n",
       "  </thead>\n",
       "  <tbody>\n",
       "    <tr>\n",
       "      <th>68679</th>\n",
       "      <td>68679</td>\n",
       "      <td>Mary</td>\n",
       "      <td>F</td>\n",
       "      <td>4125675</td>\n",
       "      <td>139</td>\n",
       "      <td>1880</td>\n",
       "      <td>2018</td>\n",
       "      <td>73985</td>\n",
       "      <td>1921</td>\n",
       "    </tr>\n",
       "  </tbody>\n",
       "</table>\n",
       "</div>"
      ],
      "text/plain": [
       "       Unnamed: 0  Name Gender    Total  No_Year  First_Year  Last_Year  \\\n",
       "68679       68679  Mary      F  4125675      139        1880       2018   \n",
       "\n",
       "       Max_Count  Best_Year  \n",
       "68679      73985       1921  "
      ]
     },
     "execution_count": 14,
     "metadata": {},
     "output_type": "execute_result"
    }
   ],
   "source": [
    "agg[(agg['Name'] == \"Mary\") & (agg['Gender'] == \"F\")]"
   ]
  },
  {
   "cell_type": "code",
   "execution_count": 15,
   "id": "75ec0fea-7238-42eb-9a71-e24245e6e8c4",
   "metadata": {
    "tags": []
   },
   "outputs": [
    {
     "data": {
      "text/html": [
       "<div>\n",
       "<style scoped>\n",
       "    .dataframe tbody tr th:only-of-type {\n",
       "        vertical-align: middle;\n",
       "    }\n",
       "\n",
       "    .dataframe tbody tr th {\n",
       "        vertical-align: top;\n",
       "    }\n",
       "\n",
       "    .dataframe thead th {\n",
       "        text-align: right;\n",
       "    }\n",
       "</style>\n",
       "<table border=\"1\" class=\"dataframe\">\n",
       "  <thead>\n",
       "    <tr style=\"text-align: right;\">\n",
       "      <th></th>\n",
       "      <th>Unnamed: 0</th>\n",
       "      <th>Name</th>\n",
       "      <th>Gender</th>\n",
       "      <th>Total</th>\n",
       "      <th>No_Year</th>\n",
       "      <th>First_Year</th>\n",
       "      <th>Last_Year</th>\n",
       "      <th>Max_Count</th>\n",
       "      <th>Best_Year</th>\n",
       "    </tr>\n",
       "  </thead>\n",
       "  <tbody>\n",
       "    <tr>\n",
       "      <th>68680</th>\n",
       "      <td>68680</td>\n",
       "      <td>Mary</td>\n",
       "      <td>M</td>\n",
       "      <td>15165</td>\n",
       "      <td>131</td>\n",
       "      <td>1880</td>\n",
       "      <td>2014</td>\n",
       "      <td>340</td>\n",
       "      <td>1930</td>\n",
       "    </tr>\n",
       "  </tbody>\n",
       "</table>\n",
       "</div>"
      ],
      "text/plain": [
       "       Unnamed: 0  Name Gender  Total  No_Year  First_Year  Last_Year  \\\n",
       "68680       68680  Mary      M  15165      131        1880       2014   \n",
       "\n",
       "       Max_Count  Best_Year  \n",
       "68680        340       1930  "
      ]
     },
     "execution_count": 15,
     "metadata": {},
     "output_type": "execute_result"
    }
   ],
   "source": [
    "agg[(agg['Name'] == \"Mary\") & (agg['Gender'] == \"M\")]"
   ]
  },
  {
   "cell_type": "markdown",
   "id": "0a4e01a5-85d2-4f82-9237-395ee045ad99",
   "metadata": {},
   "source": [
    "# 0086 \n",
    "# Most Popular Names of All Times"
   ]
  },
  {
   "cell_type": "code",
   "execution_count": 16,
   "id": "17af3a4b-c4f3-41af-b333-62917af217e4",
   "metadata": {
    "tags": []
   },
   "outputs": [
    {
     "data": {
      "text/html": [
       "<div>\n",
       "<style scoped>\n",
       "    .dataframe tbody tr th:only-of-type {\n",
       "        vertical-align: middle;\n",
       "    }\n",
       "\n",
       "    .dataframe tbody tr th {\n",
       "        vertical-align: top;\n",
       "    }\n",
       "\n",
       "    .dataframe thead th {\n",
       "        text-align: right;\n",
       "    }\n",
       "</style>\n",
       "<table border=\"1\" class=\"dataframe\">\n",
       "  <thead>\n",
       "    <tr style=\"text-align: right;\">\n",
       "      <th></th>\n",
       "      <th></th>\n",
       "      <th>Unnamed: 0</th>\n",
       "      <th>Name</th>\n",
       "      <th>Gender</th>\n",
       "      <th>Total</th>\n",
       "      <th>No_Year</th>\n",
       "      <th>First_Year</th>\n",
       "      <th>Last_Year</th>\n",
       "      <th>Max_Count</th>\n",
       "      <th>Best_Year</th>\n",
       "    </tr>\n",
       "    <tr>\n",
       "      <th>Gender</th>\n",
       "      <th></th>\n",
       "      <th></th>\n",
       "      <th></th>\n",
       "      <th></th>\n",
       "      <th></th>\n",
       "      <th></th>\n",
       "      <th></th>\n",
       "      <th></th>\n",
       "      <th></th>\n",
       "      <th></th>\n",
       "    </tr>\n",
       "  </thead>\n",
       "  <tbody>\n",
       "    <tr>\n",
       "      <th rowspan=\"10\" valign=\"top\">F</th>\n",
       "      <th>68679</th>\n",
       "      <td>68679</td>\n",
       "      <td>Mary</td>\n",
       "      <td>F</td>\n",
       "      <td>4125675</td>\n",
       "      <td>139</td>\n",
       "      <td>1880</td>\n",
       "      <td>2018</td>\n",
       "      <td>73985</td>\n",
       "      <td>1921</td>\n",
       "    </tr>\n",
       "    <tr>\n",
       "      <th>30706</th>\n",
       "      <td>30706</td>\n",
       "      <td>Elizabeth</td>\n",
       "      <td>F</td>\n",
       "      <td>1638349</td>\n",
       "      <td>139</td>\n",
       "      <td>1880</td>\n",
       "      <td>2018</td>\n",
       "      <td>20744</td>\n",
       "      <td>1990</td>\n",
       "    </tr>\n",
       "    <tr>\n",
       "      <th>79184</th>\n",
       "      <td>79184</td>\n",
       "      <td>Patricia</td>\n",
       "      <td>F</td>\n",
       "      <td>1572016</td>\n",
       "      <td>135</td>\n",
       "      <td>1884</td>\n",
       "      <td>2018</td>\n",
       "      <td>56442</td>\n",
       "      <td>1951</td>\n",
       "    </tr>\n",
       "    <tr>\n",
       "      <th>46567</th>\n",
       "      <td>46567</td>\n",
       "      <td>Jennifer</td>\n",
       "      <td>F</td>\n",
       "      <td>1467207</td>\n",
       "      <td>101</td>\n",
       "      <td>1916</td>\n",
       "      <td>2018</td>\n",
       "      <td>63603</td>\n",
       "      <td>1972</td>\n",
       "    </tr>\n",
       "    <tr>\n",
       "      <th>62973</th>\n",
       "      <td>62973</td>\n",
       "      <td>Linda</td>\n",
       "      <td>F</td>\n",
       "      <td>1452668</td>\n",
       "      <td>139</td>\n",
       "      <td>1880</td>\n",
       "      <td>2018</td>\n",
       "      <td>99689</td>\n",
       "      <td>1947</td>\n",
       "    </tr>\n",
       "    <tr>\n",
       "      <th>11699</th>\n",
       "      <td>11699</td>\n",
       "      <td>Barbara</td>\n",
       "      <td>F</td>\n",
       "      <td>1434397</td>\n",
       "      <td>139</td>\n",
       "      <td>1880</td>\n",
       "      <td>2018</td>\n",
       "      <td>48792</td>\n",
       "      <td>1947</td>\n",
       "    </tr>\n",
       "    <tr>\n",
       "      <th>67371</th>\n",
       "      <td>67371</td>\n",
       "      <td>Margaret</td>\n",
       "      <td>F</td>\n",
       "      <td>1248985</td>\n",
       "      <td>139</td>\n",
       "      <td>1880</td>\n",
       "      <td>2018</td>\n",
       "      <td>28467</td>\n",
       "      <td>1921</td>\n",
       "    </tr>\n",
       "    <tr>\n",
       "      <th>94540</th>\n",
       "      <td>94540</td>\n",
       "      <td>Susan</td>\n",
       "      <td>F</td>\n",
       "      <td>1121703</td>\n",
       "      <td>139</td>\n",
       "      <td>1880</td>\n",
       "      <td>2018</td>\n",
       "      <td>47402</td>\n",
       "      <td>1955</td>\n",
       "    </tr>\n",
       "    <tr>\n",
       "      <th>28575</th>\n",
       "      <td>28575</td>\n",
       "      <td>Dorothy</td>\n",
       "      <td>F</td>\n",
       "      <td>1107635</td>\n",
       "      <td>139</td>\n",
       "      <td>1880</td>\n",
       "      <td>2018</td>\n",
       "      <td>39999</td>\n",
       "      <td>1924</td>\n",
       "    </tr>\n",
       "    <tr>\n",
       "      <th>87546</th>\n",
       "      <td>87546</td>\n",
       "      <td>Sarah</td>\n",
       "      <td>F</td>\n",
       "      <td>1077746</td>\n",
       "      <td>139</td>\n",
       "      <td>1880</td>\n",
       "      <td>2018</td>\n",
       "      <td>28484</td>\n",
       "      <td>1982</td>\n",
       "    </tr>\n",
       "    <tr>\n",
       "      <th rowspan=\"10\" valign=\"top\">M</th>\n",
       "      <th>43582</th>\n",
       "      <td>43582</td>\n",
       "      <td>James</td>\n",
       "      <td>M</td>\n",
       "      <td>5164280</td>\n",
       "      <td>139</td>\n",
       "      <td>1880</td>\n",
       "      <td>2018</td>\n",
       "      <td>94757</td>\n",
       "      <td>1947</td>\n",
       "    </tr>\n",
       "    <tr>\n",
       "      <th>48388</th>\n",
       "      <td>48388</td>\n",
       "      <td>John</td>\n",
       "      <td>M</td>\n",
       "      <td>5124817</td>\n",
       "      <td>139</td>\n",
       "      <td>1880</td>\n",
       "      <td>2018</td>\n",
       "      <td>88319</td>\n",
       "      <td>1947</td>\n",
       "    </tr>\n",
       "    <tr>\n",
       "      <th>84427</th>\n",
       "      <td>84427</td>\n",
       "      <td>Robert</td>\n",
       "      <td>M</td>\n",
       "      <td>4820129</td>\n",
       "      <td>139</td>\n",
       "      <td>1880</td>\n",
       "      <td>2018</td>\n",
       "      <td>91640</td>\n",
       "      <td>1947</td>\n",
       "    </tr>\n",
       "    <tr>\n",
       "      <th>71023</th>\n",
       "      <td>71023</td>\n",
       "      <td>Michael</td>\n",
       "      <td>M</td>\n",
       "      <td>4362731</td>\n",
       "      <td>139</td>\n",
       "      <td>1880</td>\n",
       "      <td>2018</td>\n",
       "      <td>92704</td>\n",
       "      <td>1957</td>\n",
       "    </tr>\n",
       "    <tr>\n",
       "      <th>104615</th>\n",
       "      <td>104615</td>\n",
       "      <td>William</td>\n",
       "      <td>M</td>\n",
       "      <td>4117369</td>\n",
       "      <td>139</td>\n",
       "      <td>1880</td>\n",
       "      <td>2018</td>\n",
       "      <td>66989</td>\n",
       "      <td>1947</td>\n",
       "    </tr>\n",
       "    <tr>\n",
       "      <th>24204</th>\n",
       "      <td>24204</td>\n",
       "      <td>David</td>\n",
       "      <td>M</td>\n",
       "      <td>3621322</td>\n",
       "      <td>139</td>\n",
       "      <td>1880</td>\n",
       "      <td>2018</td>\n",
       "      <td>86253</td>\n",
       "      <td>1955</td>\n",
       "    </tr>\n",
       "    <tr>\n",
       "      <th>49192</th>\n",
       "      <td>49192</td>\n",
       "      <td>Joseph</td>\n",
       "      <td>M</td>\n",
       "      <td>2613304</td>\n",
       "      <td>139</td>\n",
       "      <td>1880</td>\n",
       "      <td>2018</td>\n",
       "      <td>32732</td>\n",
       "      <td>1956</td>\n",
       "    </tr>\n",
       "    <tr>\n",
       "      <th>83864</th>\n",
       "      <td>83864</td>\n",
       "      <td>Richard</td>\n",
       "      <td>M</td>\n",
       "      <td>2565301</td>\n",
       "      <td>139</td>\n",
       "      <td>1880</td>\n",
       "      <td>2018</td>\n",
       "      <td>58868</td>\n",
       "      <td>1946</td>\n",
       "    </tr>\n",
       "    <tr>\n",
       "      <th>18299</th>\n",
       "      <td>18299</td>\n",
       "      <td>Charles</td>\n",
       "      <td>M</td>\n",
       "      <td>2392779</td>\n",
       "      <td>139</td>\n",
       "      <td>1880</td>\n",
       "      <td>2018</td>\n",
       "      <td>40770</td>\n",
       "      <td>1947</td>\n",
       "    </tr>\n",
       "    <tr>\n",
       "      <th>98544</th>\n",
       "      <td>98544</td>\n",
       "      <td>Thomas</td>\n",
       "      <td>M</td>\n",
       "      <td>2311849</td>\n",
       "      <td>139</td>\n",
       "      <td>1880</td>\n",
       "      <td>2018</td>\n",
       "      <td>48652</td>\n",
       "      <td>1952</td>\n",
       "    </tr>\n",
       "  </tbody>\n",
       "</table>\n",
       "</div>"
      ],
      "text/plain": [
       "               Unnamed: 0       Name Gender    Total  No_Year  First_Year  \\\n",
       "Gender                                                                      \n",
       "F      68679        68679       Mary      F  4125675      139        1880   \n",
       "       30706        30706  Elizabeth      F  1638349      139        1880   \n",
       "       79184        79184   Patricia      F  1572016      135        1884   \n",
       "       46567        46567   Jennifer      F  1467207      101        1916   \n",
       "       62973        62973      Linda      F  1452668      139        1880   \n",
       "       11699        11699    Barbara      F  1434397      139        1880   \n",
       "       67371        67371   Margaret      F  1248985      139        1880   \n",
       "       94540        94540      Susan      F  1121703      139        1880   \n",
       "       28575        28575    Dorothy      F  1107635      139        1880   \n",
       "       87546        87546      Sarah      F  1077746      139        1880   \n",
       "M      43582        43582      James      M  5164280      139        1880   \n",
       "       48388        48388       John      M  5124817      139        1880   \n",
       "       84427        84427     Robert      M  4820129      139        1880   \n",
       "       71023        71023    Michael      M  4362731      139        1880   \n",
       "       104615      104615    William      M  4117369      139        1880   \n",
       "       24204        24204      David      M  3621322      139        1880   \n",
       "       49192        49192     Joseph      M  2613304      139        1880   \n",
       "       83864        83864    Richard      M  2565301      139        1880   \n",
       "       18299        18299    Charles      M  2392779      139        1880   \n",
       "       98544        98544     Thomas      M  2311849      139        1880   \n",
       "\n",
       "               Last_Year  Max_Count  Best_Year  \n",
       "Gender                                          \n",
       "F      68679        2018      73985       1921  \n",
       "       30706        2018      20744       1990  \n",
       "       79184        2018      56442       1951  \n",
       "       46567        2018      63603       1972  \n",
       "       62973        2018      99689       1947  \n",
       "       11699        2018      48792       1947  \n",
       "       67371        2018      28467       1921  \n",
       "       94540        2018      47402       1955  \n",
       "       28575        2018      39999       1924  \n",
       "       87546        2018      28484       1982  \n",
       "M      43582        2018      94757       1947  \n",
       "       48388        2018      88319       1947  \n",
       "       84427        2018      91640       1947  \n",
       "       71023        2018      92704       1957  \n",
       "       104615       2018      66989       1947  \n",
       "       24204        2018      86253       1955  \n",
       "       49192        2018      32732       1956  \n",
       "       83864        2018      58868       1946  \n",
       "       18299        2018      40770       1947  \n",
       "       98544        2018      48652       1952  "
      ]
     },
     "execution_count": 16,
     "metadata": {},
     "output_type": "execute_result"
    }
   ],
   "source": [
    "agg.groupby('Gender').apply(lambda x: x.nlargest(10, \"Total\"))"
   ]
  },
  {
   "cell_type": "markdown",
   "id": "ad0619ed-5ff4-4b88-bd69-c0dc36e5e859",
   "metadata": {},
   "source": [
    "1- `agg.groupby('Gender')`: By invoking the groupby() spell on the DataFrame agg and passing 'Gender' as the parameter, we create groups based on unique gender values. This forms the foundation for the subsequent enchantments.\n",
    "\n",
    "2- `lambda x: x.nlargest(10, \"Total\")`: Within the apply() spell, we utilize a lambda incantation to perform a specific action on each group. In this case, we summon the nlargest() spell to retrieve the top 10 rows from each group, sorted in descending order based on the 'Total' column.\n",
    "\n",
    "3- `agg.groupby('Gender').apply(lambda x: x.nlargest(10, \"Total\"))`: By combining the groupby() spell, the apply() spell, and the lambda incantation, we apply the nlargest() spell to each group within the DataFrame agg, resulting in the top 10 rows for each gender based on the 'Total' column.\n",
    "\n",
    "By casting this spell, you shall summon a new DataFrame revealing the top 10 rows for each gender in agg, showcasing the names and associated totals in descending order. This magical insight shall offer a glimpse into the most prominent names for each gender."
   ]
  },
  {
   "cell_type": "code",
   "execution_count": 19,
   "id": "00b2e08b-ae4b-4e1f-8526-48f1f6cdba5e",
   "metadata": {
    "tags": []
   },
   "outputs": [
    {
     "data": {
      "text/html": [
       "<div>\n",
       "<style scoped>\n",
       "    .dataframe tbody tr th:only-of-type {\n",
       "        vertical-align: middle;\n",
       "    }\n",
       "\n",
       "    .dataframe tbody tr th {\n",
       "        vertical-align: top;\n",
       "    }\n",
       "\n",
       "    .dataframe thead th {\n",
       "        text-align: right;\n",
       "    }\n",
       "</style>\n",
       "<table border=\"1\" class=\"dataframe\">\n",
       "  <thead>\n",
       "    <tr style=\"text-align: right;\">\n",
       "      <th></th>\n",
       "      <th>Unnamed: 0</th>\n",
       "      <th>Name</th>\n",
       "      <th>Gender</th>\n",
       "      <th>Total</th>\n",
       "      <th>No_Year</th>\n",
       "      <th>First_Year</th>\n",
       "      <th>Last_Year</th>\n",
       "      <th>Max_Count</th>\n",
       "      <th>Best_Year</th>\n",
       "    </tr>\n",
       "  </thead>\n",
       "  <tbody>\n",
       "    <tr>\n",
       "      <th>0</th>\n",
       "      <td>68679</td>\n",
       "      <td>Mary</td>\n",
       "      <td>F</td>\n",
       "      <td>4125675</td>\n",
       "      <td>139</td>\n",
       "      <td>1880</td>\n",
       "      <td>2018</td>\n",
       "      <td>73985</td>\n",
       "      <td>1921</td>\n",
       "    </tr>\n",
       "    <tr>\n",
       "      <th>1</th>\n",
       "      <td>30706</td>\n",
       "      <td>Elizabeth</td>\n",
       "      <td>F</td>\n",
       "      <td>1638349</td>\n",
       "      <td>139</td>\n",
       "      <td>1880</td>\n",
       "      <td>2018</td>\n",
       "      <td>20744</td>\n",
       "      <td>1990</td>\n",
       "    </tr>\n",
       "    <tr>\n",
       "      <th>2</th>\n",
       "      <td>79184</td>\n",
       "      <td>Patricia</td>\n",
       "      <td>F</td>\n",
       "      <td>1572016</td>\n",
       "      <td>135</td>\n",
       "      <td>1884</td>\n",
       "      <td>2018</td>\n",
       "      <td>56442</td>\n",
       "      <td>1951</td>\n",
       "    </tr>\n",
       "    <tr>\n",
       "      <th>3</th>\n",
       "      <td>46567</td>\n",
       "      <td>Jennifer</td>\n",
       "      <td>F</td>\n",
       "      <td>1467207</td>\n",
       "      <td>101</td>\n",
       "      <td>1916</td>\n",
       "      <td>2018</td>\n",
       "      <td>63603</td>\n",
       "      <td>1972</td>\n",
       "    </tr>\n",
       "    <tr>\n",
       "      <th>4</th>\n",
       "      <td>62973</td>\n",
       "      <td>Linda</td>\n",
       "      <td>F</td>\n",
       "      <td>1452668</td>\n",
       "      <td>139</td>\n",
       "      <td>1880</td>\n",
       "      <td>2018</td>\n",
       "      <td>99689</td>\n",
       "      <td>1947</td>\n",
       "    </tr>\n",
       "    <tr>\n",
       "      <th>5</th>\n",
       "      <td>11699</td>\n",
       "      <td>Barbara</td>\n",
       "      <td>F</td>\n",
       "      <td>1434397</td>\n",
       "      <td>139</td>\n",
       "      <td>1880</td>\n",
       "      <td>2018</td>\n",
       "      <td>48792</td>\n",
       "      <td>1947</td>\n",
       "    </tr>\n",
       "    <tr>\n",
       "      <th>6</th>\n",
       "      <td>67371</td>\n",
       "      <td>Margaret</td>\n",
       "      <td>F</td>\n",
       "      <td>1248985</td>\n",
       "      <td>139</td>\n",
       "      <td>1880</td>\n",
       "      <td>2018</td>\n",
       "      <td>28467</td>\n",
       "      <td>1921</td>\n",
       "    </tr>\n",
       "    <tr>\n",
       "      <th>7</th>\n",
       "      <td>94540</td>\n",
       "      <td>Susan</td>\n",
       "      <td>F</td>\n",
       "      <td>1121703</td>\n",
       "      <td>139</td>\n",
       "      <td>1880</td>\n",
       "      <td>2018</td>\n",
       "      <td>47402</td>\n",
       "      <td>1955</td>\n",
       "    </tr>\n",
       "    <tr>\n",
       "      <th>8</th>\n",
       "      <td>28575</td>\n",
       "      <td>Dorothy</td>\n",
       "      <td>F</td>\n",
       "      <td>1107635</td>\n",
       "      <td>139</td>\n",
       "      <td>1880</td>\n",
       "      <td>2018</td>\n",
       "      <td>39999</td>\n",
       "      <td>1924</td>\n",
       "    </tr>\n",
       "    <tr>\n",
       "      <th>9</th>\n",
       "      <td>87546</td>\n",
       "      <td>Sarah</td>\n",
       "      <td>F</td>\n",
       "      <td>1077746</td>\n",
       "      <td>139</td>\n",
       "      <td>1880</td>\n",
       "      <td>2018</td>\n",
       "      <td>28484</td>\n",
       "      <td>1982</td>\n",
       "    </tr>\n",
       "    <tr>\n",
       "      <th>10</th>\n",
       "      <td>43582</td>\n",
       "      <td>James</td>\n",
       "      <td>M</td>\n",
       "      <td>5164280</td>\n",
       "      <td>139</td>\n",
       "      <td>1880</td>\n",
       "      <td>2018</td>\n",
       "      <td>94757</td>\n",
       "      <td>1947</td>\n",
       "    </tr>\n",
       "    <tr>\n",
       "      <th>11</th>\n",
       "      <td>48388</td>\n",
       "      <td>John</td>\n",
       "      <td>M</td>\n",
       "      <td>5124817</td>\n",
       "      <td>139</td>\n",
       "      <td>1880</td>\n",
       "      <td>2018</td>\n",
       "      <td>88319</td>\n",
       "      <td>1947</td>\n",
       "    </tr>\n",
       "    <tr>\n",
       "      <th>12</th>\n",
       "      <td>84427</td>\n",
       "      <td>Robert</td>\n",
       "      <td>M</td>\n",
       "      <td>4820129</td>\n",
       "      <td>139</td>\n",
       "      <td>1880</td>\n",
       "      <td>2018</td>\n",
       "      <td>91640</td>\n",
       "      <td>1947</td>\n",
       "    </tr>\n",
       "    <tr>\n",
       "      <th>13</th>\n",
       "      <td>71023</td>\n",
       "      <td>Michael</td>\n",
       "      <td>M</td>\n",
       "      <td>4362731</td>\n",
       "      <td>139</td>\n",
       "      <td>1880</td>\n",
       "      <td>2018</td>\n",
       "      <td>92704</td>\n",
       "      <td>1957</td>\n",
       "    </tr>\n",
       "    <tr>\n",
       "      <th>14</th>\n",
       "      <td>104615</td>\n",
       "      <td>William</td>\n",
       "      <td>M</td>\n",
       "      <td>4117369</td>\n",
       "      <td>139</td>\n",
       "      <td>1880</td>\n",
       "      <td>2018</td>\n",
       "      <td>66989</td>\n",
       "      <td>1947</td>\n",
       "    </tr>\n",
       "    <tr>\n",
       "      <th>15</th>\n",
       "      <td>24204</td>\n",
       "      <td>David</td>\n",
       "      <td>M</td>\n",
       "      <td>3621322</td>\n",
       "      <td>139</td>\n",
       "      <td>1880</td>\n",
       "      <td>2018</td>\n",
       "      <td>86253</td>\n",
       "      <td>1955</td>\n",
       "    </tr>\n",
       "    <tr>\n",
       "      <th>16</th>\n",
       "      <td>49192</td>\n",
       "      <td>Joseph</td>\n",
       "      <td>M</td>\n",
       "      <td>2613304</td>\n",
       "      <td>139</td>\n",
       "      <td>1880</td>\n",
       "      <td>2018</td>\n",
       "      <td>32732</td>\n",
       "      <td>1956</td>\n",
       "    </tr>\n",
       "    <tr>\n",
       "      <th>17</th>\n",
       "      <td>83864</td>\n",
       "      <td>Richard</td>\n",
       "      <td>M</td>\n",
       "      <td>2565301</td>\n",
       "      <td>139</td>\n",
       "      <td>1880</td>\n",
       "      <td>2018</td>\n",
       "      <td>58868</td>\n",
       "      <td>1946</td>\n",
       "    </tr>\n",
       "    <tr>\n",
       "      <th>18</th>\n",
       "      <td>18299</td>\n",
       "      <td>Charles</td>\n",
       "      <td>M</td>\n",
       "      <td>2392779</td>\n",
       "      <td>139</td>\n",
       "      <td>1880</td>\n",
       "      <td>2018</td>\n",
       "      <td>40770</td>\n",
       "      <td>1947</td>\n",
       "    </tr>\n",
       "    <tr>\n",
       "      <th>19</th>\n",
       "      <td>98544</td>\n",
       "      <td>Thomas</td>\n",
       "      <td>M</td>\n",
       "      <td>2311849</td>\n",
       "      <td>139</td>\n",
       "      <td>1880</td>\n",
       "      <td>2018</td>\n",
       "      <td>48652</td>\n",
       "      <td>1952</td>\n",
       "    </tr>\n",
       "  </tbody>\n",
       "</table>\n",
       "</div>"
      ],
      "text/plain": [
       "    Unnamed: 0       Name Gender    Total  No_Year  First_Year  Last_Year  \\\n",
       "0        68679       Mary      F  4125675      139        1880       2018   \n",
       "1        30706  Elizabeth      F  1638349      139        1880       2018   \n",
       "2        79184   Patricia      F  1572016      135        1884       2018   \n",
       "3        46567   Jennifer      F  1467207      101        1916       2018   \n",
       "4        62973      Linda      F  1452668      139        1880       2018   \n",
       "5        11699    Barbara      F  1434397      139        1880       2018   \n",
       "6        67371   Margaret      F  1248985      139        1880       2018   \n",
       "7        94540      Susan      F  1121703      139        1880       2018   \n",
       "8        28575    Dorothy      F  1107635      139        1880       2018   \n",
       "9        87546      Sarah      F  1077746      139        1880       2018   \n",
       "10       43582      James      M  5164280      139        1880       2018   \n",
       "11       48388       John      M  5124817      139        1880       2018   \n",
       "12       84427     Robert      M  4820129      139        1880       2018   \n",
       "13       71023    Michael      M  4362731      139        1880       2018   \n",
       "14      104615    William      M  4117369      139        1880       2018   \n",
       "15       24204      David      M  3621322      139        1880       2018   \n",
       "16       49192     Joseph      M  2613304      139        1880       2018   \n",
       "17       83864    Richard      M  2565301      139        1880       2018   \n",
       "18       18299    Charles      M  2392779      139        1880       2018   \n",
       "19       98544     Thomas      M  2311849      139        1880       2018   \n",
       "\n",
       "    Max_Count  Best_Year  \n",
       "0       73985       1921  \n",
       "1       20744       1990  \n",
       "2       56442       1951  \n",
       "3       63603       1972  \n",
       "4       99689       1947  \n",
       "5       48792       1947  \n",
       "6       28467       1921  \n",
       "7       47402       1955  \n",
       "8       39999       1924  \n",
       "9       28484       1982  \n",
       "10      94757       1947  \n",
       "11      88319       1947  \n",
       "12      91640       1947  \n",
       "13      92704       1957  \n",
       "14      66989       1947  \n",
       "15      86253       1955  \n",
       "16      32732       1956  \n",
       "17      58868       1946  \n",
       "18      40770       1947  \n",
       "19      48652       1952  "
      ]
     },
     "execution_count": 19,
     "metadata": {},
     "output_type": "execute_result"
    }
   ],
   "source": [
    "all_times = agg.groupby(\"Gender\").apply(lambda x: x.nlargest(10, \"Total\")).reset_index(drop = True)\n",
    "all_times"
   ]
  },
  {
   "cell_type": "markdown",
   "id": "ffc65100-81e0-4570-8cbb-21c93c2700d3",
   "metadata": {},
   "source": [
    "1- `agg.groupby(\"Gender\")`: By invoking the groupby() spell on the DataFrame agg and passing \"Gender\" as the parameter, we create groups based on unique gender values. This serves as the foundation for the subsequent enchantments.\n",
    "\n",
    "2- `lambda x: x.nlargest(10, \"Total\")`: Within the apply() spell, we summon a lambda incantation to perform a specific action on each group. In this case, we invoke the nlargest() spell to retrieve the top 10 rows from each group, sorted in descending order based on the 'Total' column.\n",
    "\n",
    "3- `.reset_index(drop=True)`: By using the reset_index() spell with the parameter drop=True, we reset the index of the resulting DataFrame. This ensures that the index is reset to a default numerical index, without retaining the previous group-based index.\n",
    "\n",
    "4- `all_times = agg.groupby(\"Gender\").apply(lambda x: x.nlargest(10, \"Total\")).reset_index(drop=True)`: By combining the groupby() spell, the apply() spell, the lambda incantation, and the reset_index() spell, we create the new DataFrame all_times. This DataFrame contains the top 10 rows for each gender in agg, sorted by the 'Total' column, with a reset index.\n",
    "\n",
    "With this spell cast, you shall summon the magnificent DataFrame all_times, brimming with the top 10 rows for each gender in agg. This grand tapestry of data shall reveal the most prominent names for each gender, allowing for a deeper understanding of the enchanted world of data."
   ]
  },
  {
   "cell_type": "markdown",
   "id": "09d5c5b0-de50-45f5-a591-c895df47d465",
   "metadata": {},
   "source": [
    "### Visualization of `all_times`"
   ]
  },
  {
   "cell_type": "code",
   "execution_count": 20,
   "id": "f021a044-4de9-42b2-a72c-b89526b089de",
   "metadata": {
    "tags": []
   },
   "outputs": [],
   "source": [
    "import seaborn as sns"
   ]
  },
  {
   "cell_type": "code",
   "execution_count": 21,
   "id": "b09ac789-a7ad-43ec-ac72-c1ae902d2baf",
   "metadata": {
    "tags": []
   },
   "outputs": [
    {
     "data": {
      "image/png": "[encoded data removed]",
      "text/plain": [
       "<Figure size 1500x1000 with 1 Axes>"
      ]
     },
     "metadata": {},
     "output_type": "display_data"
    }
   ],
   "source": [
    "plt.figure(figsize= (15, 10))\n",
    "sns.barplot(x= \"Name\", y = \"Total\", data = all_times, hue= \"Gender\")\n",
    "plt.show()"
   ]
  },
  {
   "cell_type": "markdown",
   "id": "26c9f9bc-2394-4637-a30c-bf99c36b3c94",
   "metadata": {},
   "source": [
    "# 0087\n",
    "# General Trends Over Time (1880- 2018)"
   ]
  },
  {
   "cell_type": "code",
   "execution_count": null,
   "id": "abc96eeb-9af5-4942-8f02-c2bda91ff8c6",
   "metadata": {
    "tags": []
   },
   "outputs": [],
   "source": [
    "pd.options.display.float_format = '{:.0f}'.format"
   ]
  },
  {
   "cell_type": "code",
   "execution_count": null,
   "id": "879f36ed-dc6f-4e18-8300-c2c64cec503a",
   "metadata": {
    "tags": []
   },
   "outputs": [],
   "source": [
    "babies_per_year = df.groupby('Year')['Count'].sum()\n",
    "babies_per_year"
   ]
  },
  {
   "cell_type": "code",
   "execution_count": null,
   "id": "cc8e8c74-a8e3-41f6-aea7-9e34ed90d7de",
   "metadata": {
    "tags": []
   },
   "outputs": [],
   "source": [
    "babies_per_year.plot(kind = 'bar', y = \"Count\", figsize = (15,10), fontsize = 15)\n",
    "plt.xticks(ticks= (range(0, len(babies_per_year), 5)), labels= range(1880, 2019, 5))\n",
    "plt.title(\"Registered Babies Per Year\", fontsize = 20)\n",
    "plt.show()"
   ]
  },
  {
   "cell_type": "code",
   "execution_count": null,
   "id": "17e1f0e5-c9e7-4420-9613-0df1fe220df4",
   "metadata": {
    "tags": []
   },
   "outputs": [],
   "source": [
    "diff_name = df.groupby(\"Year\")['Name'].count()\n",
    "diff_name"
   ]
  },
  {
   "cell_type": "code",
   "execution_count": null,
   "id": "48699a5e-3ce7-4f18-bc6d-9b914c07724a",
   "metadata": {
    "tags": []
   },
   "outputs": [],
   "source": [
    "diff_name.plot(kind = 'bar', figsize = (15,10), fontsize = 15)\n",
    "plt.xticks(ticks= (range(0, len(diff_name), 5)), labels= range(1880, 2019, 5))\n",
    "plt.title(\"Unique Names Per Year\", fontsize = 20)\n",
    "plt.show()"
   ]
  },
  {
   "cell_type": "markdown",
   "id": "60a60c31-070b-445b-a8e4-78479b48d7f8",
   "metadata": {},
   "source": [
    "# 0088\n",
    "# Creating the Features \"Popularity\" & \"Rank\""
   ]
  },
  {
   "cell_type": "code",
   "execution_count": null,
   "id": "9e55bbf1-c5a0-4892-acf0-f3d81f81879f",
   "metadata": {
    "tags": []
   },
   "outputs": [],
   "source": [
    "df"
   ]
  },
  {
   "cell_type": "markdown",
   "id": "a8043539-db06-49b7-9321-93b7e9f936d1",
   "metadata": {},
   "source": [
    "### add `Popularity`"
   ]
  },
  {
   "cell_type": "code",
   "execution_count": null,
   "id": "39ee6e0b-5f24-4495-bd88-69fe89556202",
   "metadata": {
    "tags": []
   },
   "outputs": [],
   "source": [
    "df.groupby([\"Year\", \"Gender\"])['Count'].sum()"
   ]
  },
  {
   "cell_type": "code",
   "execution_count": null,
   "id": "25c52cd6-3467-4e47-ad4d-88941a6e7809",
   "metadata": {
    "tags": []
   },
   "outputs": [],
   "source": [
    "7065 / 90994 * 1000000"
   ]
  },
  {
   "cell_type": "code",
   "execution_count": null,
   "id": "6c1b8da1-77e3-4cb6-9281-4c8857e944f4",
   "metadata": {
    "tags": []
   },
   "outputs": [],
   "source": [
    "df['Count'].div(df.groupby([\"Year\", \"Gender\"])['Count'].transform(\"sum\")) * 1000000"
   ]
  },
  {
   "cell_type": "code",
   "execution_count": null,
   "id": "f3849599-b892-4f48-844f-858da7d97e89",
   "metadata": {
    "tags": []
   },
   "outputs": [],
   "source": [
    "df['Popularity'] = df['Count'].div(df.groupby([\"Year\", \"Gender\"])['Count'].transform(\"sum\")) * 1000000\n",
    "df"
   ]
  },
  {
   "cell_type": "markdown",
   "id": "32c66d48-91d7-4f63-b460-b5bc185720fa",
   "metadata": {},
   "source": [
    "### Add `Rank`"
   ]
  },
  {
   "cell_type": "code",
   "execution_count": null,
   "id": "9f4b1158-d3d4-4a18-a223-7cac26ce0886",
   "metadata": {
    "tags": []
   },
   "outputs": [],
   "source": [
    "df.groupby([\"Year\", \"Gender\"]).Count.apply(lambda x: x.rank(ascending = False))"
   ]
  },
  {
   "cell_type": "code",
   "execution_count": null,
   "id": "db04cd69-5532-42c4-be66-b06a88646ff0",
   "metadata": {
    "tags": []
   },
   "outputs": [],
   "source": [
    "df[\"Rank\"] =  df.groupby([\"Year\", \"Gender\"]).Count.apply(lambda x: x.rank(ascending = False))"
   ]
  },
  {
   "cell_type": "code",
   "execution_count": null,
   "id": "6863378f-df94-4795-959e-36f4ed30bd5a",
   "metadata": {
    "tags": []
   },
   "outputs": [],
   "source": [
    "df"
   ]
  },
  {
   "cell_type": "code",
   "execution_count": null,
   "id": "b7cd741c-0182-463d-b0bd-a878ddbd1a4f",
   "metadata": {
    "tags": []
   },
   "outputs": [],
   "source": [
    "df[(df['Year'] == 2018) & (df['Gender'] == \"M\")].head(60)"
   ]
  },
  {
   "cell_type": "code",
   "execution_count": null,
   "id": "761322c6-402a-4f98-a550-fa1c8cd9d630",
   "metadata": {
    "tags": []
   },
   "outputs": [],
   "source": [
    "df[(df['Year'] == 2018) & (df['Gender'] == \"M\")]['Popularity'].sum()"
   ]
  },
  {
   "cell_type": "markdown",
   "id": "bc69ba8c-232a-4341-89a1-f2cadb49f3eb",
   "metadata": {},
   "source": [
    "# 0089\n",
    "# Visualizing Name Trends Over Time"
   ]
  },
  {
   "cell_type": "code",
   "execution_count": null,
   "id": "f3f5e2d8-8b58-44f9-9b45-9c1b7fdc04ed",
   "metadata": {
    "tags": []
   },
   "outputs": [],
   "source": [
    "df"
   ]
  },
  {
   "cell_type": "code",
   "execution_count": null,
   "id": "61338346-606a-4ad7-8162-0ba5e06be0d2",
   "metadata": {
    "tags": []
   },
   "outputs": [],
   "source": [
    "mary = df[(df['Name'] == \"Mary\") & (df['Gender'] == \"F\")]\n",
    "mary.head(60)"
   ]
  },
  {
   "cell_type": "code",
   "execution_count": null,
   "id": "f8e73082-d369-46ba-a5de-b7b256e1d3ea",
   "metadata": {
    "tags": []
   },
   "outputs": [],
   "source": [
    "mary.tail(60)"
   ]
  },
  {
   "cell_type": "code",
   "execution_count": null,
   "id": "f998a828-d011-4a7d-ba58-d36a9f4509dd",
   "metadata": {
    "tags": []
   },
   "outputs": [],
   "source": [
    "fig, ax1 = plt.subplots(figsize = (12, 8))\n",
    "ax1.bar(x = mary['Year'], height = mary['Popularity'], label = \"Popularity\")\n",
    "ax2 = ax1.twinx()\n",
    "ax2.plot(mary['Year'], mary['Count'], color = 'red', label = \"Count\")\n",
    "ax1.set_xlabel(\"Year\", fontsize = 15)\n",
    "ax1.set_ylabel(\"Babies Per Million\", fontsize = 15)\n",
    "ax2.set_ylabel(\"Count\", fontsize = 18)\n",
    "ax1.set_title(\"Mary\", fontsize = 18)\n",
    "ax1.tick_params(labelsize = 12)\n",
    "ax2.tick_params(labelsize = 12)\n",
    "ax1.legend(loc = 2, fontsize = 15)\n",
    "ax2.legend(loc = 1, fontsize = 15)\n",
    "plt.show()"
   ]
  },
  {
   "cell_type": "code",
   "execution_count": null,
   "id": "ed0532a4-6d6f-4b0f-8dd6-04018489480c",
   "metadata": {},
   "outputs": [],
   "source": []
  },
  {
   "cell_type": "markdown",
   "id": "a00b5e46-a30d-4e73-bbf6-1c3f24882abc",
   "metadata": {},
   "source": [
    "# 0090\n",
    "# Why Does a Name Popularity Suddenly Change (Par1)"
   ]
  },
  {
   "cell_type": "code",
   "execution_count": null,
   "id": "e1736c19-8900-4c06-b0f6-7c312e76747c",
   "metadata": {
    "tags": []
   },
   "outputs": [],
   "source": [
    "df"
   ]
  },
  {
   "cell_type": "code",
   "execution_count": null,
   "id": "168e5202-8bbb-4f37-b680-636d14789943",
   "metadata": {
    "tags": []
   },
   "outputs": [],
   "source": [
    "df.loc[(df['Name'] == \"Mary\") & (df['Gender'] == \"F\"), \"Popularity\"].shift()"
   ]
  },
  {
   "cell_type": "code",
   "execution_count": null,
   "id": "37213692-0c8d-4c2b-8f6f-0dd44deb9ddd",
   "metadata": {
    "tags": []
   },
   "outputs": [],
   "source": [
    "df['Pop_Lag1'] = df.groupby([\"Name\", \"Gender\"])[\"Popularity\"].shift()"
   ]
  },
  {
   "cell_type": "markdown",
   "id": "f9c3e078-1643-4e88-bff0-c558ad59b367",
   "metadata": {},
   "source": [
    "* `df.groupby([\"Name\", \"Gender\"])`: By invoking the groupby() spell on the DataFrame df and passing a list of columns [\"Name\", \"Gender\"] as the parameter, we create groups based on unique combinations of 'Name' and 'Gender'. This forms the foundation for our subsequent enchantments.\n",
    "\n",
    "* `[\"Popularity\"]:` Within the groupby() spell, we specify the column \"Popularity\" to indicate that we want to perform operations on this column within each group.\n",
    "\n",
    "* `.shift()`: The shift() spell is invoked on the grouped 'Popularity' column to shift the values by one position within each group. This effectively lags the 'Popularity' values for each combination of 'Name' and 'Gender' by one position.\n",
    "\n",
    "* `df['Pop_Lag1'] = ...:` By assigning the result of the shift() spell to the new column 'Pop_Lag1' in the DataFrame df, we populate the column with the lagged 'Popularity' values.\n",
    "\n",
    "By casting this spell, you shall summon the enchanted DataFrame df, now adorned with the 'Pop_Lag1' column containing the lagged 'Popularity' values for each combination of 'Name' and 'Gender'. This mystical column shall offer insights into the previous popularity levels for each name and gender combination."
   ]
  },
  {
   "cell_type": "code",
   "execution_count": null,
   "id": "4ba3fe64-ce07-42ef-95b3-8f31a207244b",
   "metadata": {
    "tags": []
   },
   "outputs": [],
   "source": [
    "df"
   ]
  },
  {
   "cell_type": "code",
   "execution_count": null,
   "id": "7dc8b8c8-c011-4676-b5dd-2cd43153fd56",
   "metadata": {
    "tags": []
   },
   "outputs": [],
   "source": [
    "df[df['Name'] == \"Ashanti\"]"
   ]
  },
  {
   "cell_type": "code",
   "execution_count": null,
   "id": "06c54113-de88-4c27-bee6-99fad194fc79",
   "metadata": {},
   "outputs": [],
   "source": [
    "df.loc[(df['Year'] > 1880) & (df['Pop_Lag1'].isna()), \"Pop_Lag1\"] = 0"
   ]
  },
  {
   "cell_type": "markdown",
   "id": "162f0287-d2f6-4a76-a0f1-5dee8d32250e",
   "metadata": {},
   "source": [
    "* `(df['Year'] > 1880) & (df['Pop_Lag1'].isna())`: The conditions remain the same, selecting the rows where 'Year' is greater than 1880 and 'Pop_Lag1' is NaN.\n",
    "\n",
    "* `= 0:` Instead of the ellipsis (...), we assign the value 0 to the 'Pop_Lag1' column for the selected rows. This will fill the missing values with zero."
   ]
  },
  {
   "cell_type": "code",
   "execution_count": null,
   "id": "99e66cd0-b249-4742-9296-33c06040a5d1",
   "metadata": {
    "tags": []
   },
   "outputs": [],
   "source": [
    "df[df['Name'] == \"Ashanti\"]"
   ]
  },
  {
   "cell_type": "code",
   "execution_count": null,
   "id": "ff57b702-3097-4945-bede-7f572d28dfc8",
   "metadata": {
    "tags": []
   },
   "outputs": [],
   "source": [
    "df['Pop_diff'] = df['Popularity'] - df['Pop_Lag1']"
   ]
  },
  {
   "cell_type": "code",
   "execution_count": null,
   "id": "27d77a80-a176-468e-a4f6-a33574eb5602",
   "metadata": {
    "tags": []
   },
   "outputs": [],
   "source": [
    "df[(df['Name'] == 'Mary') & (df['Gender'] == \"F\")]"
   ]
  },
  {
   "cell_type": "code",
   "execution_count": null,
   "id": "cd55020f-5355-4621-a373-b700b298f91b",
   "metadata": {
    "tags": []
   },
   "outputs": [],
   "source": [
    "df[df['Name'] == \"Ashanti\"]"
   ]
  },
  {
   "cell_type": "code",
   "execution_count": null,
   "id": "94179b7c-1277-470b-a6b6-cbeb0531e70d",
   "metadata": {
    "tags": []
   },
   "outputs": [],
   "source": [
    "df2 = df[df['Year'] >= 1990].copy()"
   ]
  },
  {
   "cell_type": "code",
   "execution_count": null,
   "id": "d89f0b93-1a32-4e3a-aa4a-20f791247669",
   "metadata": {
    "tags": []
   },
   "outputs": [],
   "source": [
    "df2"
   ]
  },
  {
   "cell_type": "code",
   "execution_count": null,
   "id": "9f974edd-f0bb-4d58-8970-07f6ccede871",
   "metadata": {
    "tags": []
   },
   "outputs": [],
   "source": [
    "df2.nlargest(20, \"Pop_diff\")"
   ]
  },
  {
   "cell_type": "code",
   "execution_count": null,
   "id": "2968fe7a-dcd1-4319-b3a9-1f276e1d02bf",
   "metadata": {
    "tags": []
   },
   "outputs": [],
   "source": [
    "plot_name(\"Linda\", \"F\")"
   ]
  },
  {
   "cell_type": "code",
   "execution_count": null,
   "id": "1546a0ec-20f1-4e59-9bf2-823e8e1f73bd",
   "metadata": {
    "tags": []
   },
   "outputs": [],
   "source": [
    "plot_name(\"Jason\", \"M\")"
   ]
  },
  {
   "cell_type": "code",
   "execution_count": null,
   "id": "c49a6fab-937f-49c8-8243-ff7c90116297",
   "metadata": {
    "tags": []
   },
   "outputs": [],
   "source": [
    "df2.nsmallest(20, \"Pop_diff\")"
   ]
  },
  {
   "cell_type": "markdown",
   "id": "18917ac8-76ae-44ac-bcde-629af2f113e7",
   "metadata": {},
   "source": [
    "# 0091\n",
    "# Why Does a Name's Popularity Suddenly Change? (Part 2)"
   ]
  },
  {
   "cell_type": "code",
   "execution_count": null,
   "id": "d0587258-2b57-4f1e-a0d6-ac80cf0933de",
   "metadata": {
    "tags": []
   },
   "outputs": [],
   "source": [
    "df2[(df2[\"Pop_Lag1\"] < 5)].nlargest(20, \"Pop_diff\")"
   ]
  },
  {
   "cell_type": "code",
   "execution_count": null,
   "id": "58fab813-bf87-41c4-8487-11506320c440",
   "metadata": {
    "tags": []
   },
   "outputs": [],
   "source": [
    "df2[df2[\"Name\"] == \"Nakia\"]"
   ]
  },
  {
   "cell_type": "code",
   "execution_count": null,
   "id": "b50c7bc2-2865-476d-93cc-6fde08f21f87",
   "metadata": {
    "tags": []
   },
   "outputs": [],
   "source": [
    "plot_name(\"Nakia\", \"F\")"
   ]
  },
  {
   "cell_type": "code",
   "execution_count": null,
   "id": "62f4ca4c-ecef-4ce2-8f2d-1e0bb61a3e08",
   "metadata": {},
   "outputs": [],
   "source": [
    "plot_name(\"Nakia\", \"M\")"
   ]
  },
  {
   "cell_type": "code",
   "execution_count": null,
   "id": "254925bd-a4f0-4771-a48d-b31d735d6ce7",
   "metadata": {},
   "outputs": [],
   "source": [
    "plot_name(\"Kizzy\", \"F\")"
   ]
  },
  {
   "cell_type": "code",
   "execution_count": null,
   "id": "c8cc57b6-afe6-44e0-97f9-5159c5c7d43d",
   "metadata": {},
   "outputs": [],
   "source": [
    "plot_name(\"Rihanna\", \"F\")"
   ]
  },
  {
   "cell_type": "code",
   "execution_count": null,
   "id": "9bd35cfd-8786-414a-9b8d-2244402ac660",
   "metadata": {},
   "outputs": [],
   "source": [
    "plot_name(\"Whitney\", \"F\")"
   ]
  },
  {
   "cell_type": "code",
   "execution_count": null,
   "id": "00afb155-a7e7-4088-952b-2ae324c51644",
   "metadata": {},
   "outputs": [],
   "source": [
    "plot_name(\"Shaquille\", \"M\")"
   ]
  },
  {
   "cell_type": "markdown",
   "id": "10f210bf-e714-43b8-ba8e-e556667633e3",
   "metadata": {},
   "source": [
    "#### Highest Precentage Decrease Amount Popularity Names"
   ]
  },
  {
   "cell_type": "code",
   "execution_count": null,
   "id": "0b6071ba-b60a-409c-8382-5a1952acf784",
   "metadata": {
    "tags": []
   },
   "outputs": [],
   "source": [
    "df2"
   ]
  },
  {
   "cell_type": "code",
   "execution_count": null,
   "id": "5c0ad54a-5b3c-4d08-8ed0-953f4a41caa6",
   "metadata": {
    "tags": []
   },
   "outputs": [],
   "source": [
    "df2['%Change'] = df2['Popularity'].div(df['Pop_Lag1']).sub(1).mul(100)"
   ]
  },
  {
   "cell_type": "code",
   "execution_count": null,
   "id": "fefadd93-8da9-4dbe-94be-9738e14822c3",
   "metadata": {
    "tags": []
   },
   "outputs": [],
   "source": [
    "df2"
   ]
  },
  {
   "cell_type": "code",
   "execution_count": null,
   "id": "75aae00f-07c4-4159-ad90-dfe5b004be43",
   "metadata": {
    "tags": []
   },
   "outputs": [],
   "source": [
    "df2[df2['Pop_Lag1'] > 1000].nsmallest(20, \"%Change\")"
   ]
  },
  {
   "cell_type": "code",
   "execution_count": null,
   "id": "c9396ad9-0fa3-4ad3-a835-bf61a0ee4617",
   "metadata": {},
   "outputs": [],
   "source": [
    "plot_name(\"Katina\", \"F\")"
   ]
  },
  {
   "cell_type": "code",
   "execution_count": null,
   "id": "6d51e992-f7ab-4336-a208-96ac1c90dcde",
   "metadata": {},
   "outputs": [],
   "source": [
    "plot_name(\"Iesha\", \"F\")"
   ]
  },
  {
   "cell_type": "code",
   "execution_count": null,
   "id": "af4abf11-4538-47df-9dc6-7bb07d44a754",
   "metadata": {},
   "outputs": [],
   "source": [
    "plot_name(\"Ashanti\", \"F\")"
   ]
  },
  {
   "cell_type": "code",
   "execution_count": null,
   "id": "347f4890-8d43-448b-97de-1a3b393f37ef",
   "metadata": {},
   "outputs": [],
   "source": [
    "plot_name(\"Woodrow\", \"M\")"
   ]
  },
  {
   "cell_type": "code",
   "execution_count": null,
   "id": "97dff781-e729-40ce-8342-af62c07ed79e",
   "metadata": {},
   "outputs": [],
   "source": [
    "plot_name(\"Hillary\", \"F\")"
   ]
  },
  {
   "cell_type": "markdown",
   "id": "14f27ff5-983c-46a7-95f8-e2d1d6e44572",
   "metadata": {},
   "source": [
    "# 0092\n",
    "# Persistant Vs. Spike-Fade Names"
   ]
  },
  {
   "cell_type": "code",
   "execution_count": null,
   "id": "3bfb9e87-6576-460d-81a2-1a7180499b5c",
   "metadata": {
    "tags": []
   },
   "outputs": [],
   "source": [
    "agg"
   ]
  },
  {
   "cell_type": "code",
   "execution_count": null,
   "id": "03c33489-f56f-4e6a-b56c-b1097de798f8",
   "metadata": {
    "tags": []
   },
   "outputs": [],
   "source": [
    "agg['Spike_Score'] = agg[\"Max_Count\"].div(agg[\"Total\"]).mul(100)"
   ]
  },
  {
   "cell_type": "code",
   "execution_count": null,
   "id": "e352e243-33b8-47e1-89d9-11ba144a1c6d",
   "metadata": {
    "tags": []
   },
   "outputs": [],
   "source": [
    "agg"
   ]
  },
  {
   "cell_type": "code",
   "execution_count": null,
   "id": "6378b6ba-aaea-486f-9ed3-7fba1a4f647b",
   "metadata": {
    "tags": []
   },
   "outputs": [],
   "source": [
    "agg.sort_values(by = 'Spike_Score', ascending = True).head(20)"
   ]
  },
  {
   "cell_type": "code",
   "execution_count": null,
   "id": "b341b854-d809-418b-8aba-5bef02a18768",
   "metadata": {
    "tags": []
   },
   "outputs": [],
   "source": [
    "pers = agg.sort_values(by = 'Spike_Score', ascending = True).head(20)"
   ]
  },
  {
   "cell_type": "code",
   "execution_count": null,
   "id": "8e10d8cb-b022-4cde-a494-c0fad6cbff32",
   "metadata": {
    "tags": []
   },
   "outputs": [],
   "source": [
    "pers"
   ]
  },
  {
   "cell_type": "code",
   "execution_count": null,
   "id": "e67d905f-bf9a-4ebb-97f3-7ec6c2070f96",
   "metadata": {
    "tags": []
   },
   "outputs": [],
   "source": [
    "l = list(zip(pers[\"Name\"], pers['Gender']))\n",
    "l"
   ]
  },
  {
   "cell_type": "code",
   "execution_count": null,
   "id": "39256ce9-57fa-4c5f-87e6-f1a7d6c3c023",
   "metadata": {},
   "outputs": [],
   "source": [
    "for name in l:\n",
    "    plot_name(name = name[0], gender = name[1], crit= \"Count\")"
   ]
  },
  {
   "cell_type": "code",
   "execution_count": null,
   "id": "2cfd4362-ecfa-460f-b8dd-49408773ce1d",
   "metadata": {
    "tags": []
   },
   "outputs": [],
   "source": [
    "spike = agg[(agg['Total'] > 1000) & (agg['No_Year'] > 10)].sort_values(by = 'Spike_Score', ascending= False).head(20)"
   ]
  },
  {
   "cell_type": "code",
   "execution_count": null,
   "id": "b6382de1-fca5-4fa6-8856-3a7a94058d81",
   "metadata": {
    "tags": []
   },
   "outputs": [],
   "source": [
    "spike"
   ]
  },
  {
   "cell_type": "code",
   "execution_count": null,
   "id": "0b7d0d4e-d10e-45a3-9540-73bf7ec3a6c1",
   "metadata": {
    "tags": []
   },
   "outputs": [],
   "source": [
    "l2 = list(zip(spike['Name'], spike['Gender']))\n",
    "l2"
   ]
  },
  {
   "cell_type": "code",
   "execution_count": null,
   "id": "643278c5-7de2-4556-ae59-6b904bb68fd1",
   "metadata": {},
   "outputs": [],
   "source": [
    "for name in l2:\n",
    "    plot_name(name = name[0], gender = name[1], crit(\"Count\"))"
   ]
  },
  {
   "cell_type": "markdown",
   "id": "6144790b-8d21-45a3-99a0-520b994a560d",
   "metadata": {},
   "source": [
    "# 0093\n",
    "# Most Popular Unisex Names"
   ]
  },
  {
   "cell_type": "code",
   "execution_count": null,
   "id": "caefc2e7-cdc2-4f69-b97d-b01029ac9efa",
   "metadata": {
    "tags": []
   },
   "outputs": [],
   "source": [
    "df = df.drop(columns=['%Change'])"
   ]
  },
  {
   "cell_type": "code",
   "execution_count": null,
   "id": "bba21d25-9ea0-4e9b-a7e7-d1b7322bac1d",
   "metadata": {
    "tags": []
   },
   "outputs": [],
   "source": [
    "df"
   ]
  },
  {
   "cell_type": "code",
   "execution_count": null,
   "id": "b9efcabd-d79e-4b24-b621-c8015ebf2ae2",
   "metadata": {
    "tags": []
   },
   "outputs": [],
   "source": [
    "df[df['Name'] == \"Mary\"].groupby(['Name', 'Gender'])['Count'].sum()"
   ]
  },
  {
   "cell_type": "code",
   "execution_count": null,
   "id": "5aa40d55-f7b7-4946-a14e-ccac69e33549",
   "metadata": {
    "tags": []
   },
   "outputs": [],
   "source": [
    "df.groupby(['Name', 'Gender'])['Count'].sum().unstack()"
   ]
  },
  {
   "cell_type": "code",
   "execution_count": null,
   "id": "80e5fb9d-c199-473a-bc6c-e1d8d431f2cc",
   "metadata": {
    "tags": []
   },
   "outputs": [],
   "source": [
    "unisex = df.groupby(['Name', 'Gender'])['Count'].sum().unstack()\n",
    "unisex"
   ]
  },
  {
   "cell_type": "markdown",
   "id": "21258a5e-24a5-49be-b115-2eab4f44ddc3",
   "metadata": {},
   "source": [
    "By invoking the groupby() spell on the enchanted DataFrame df with the columns 'Name' and 'Gender', and then performing the sum() spell on the 'Count' column within each group, you have captured the essence of the total count for each combination of 'Name' and 'Gender'.\n",
    "\n",
    "And now, by casting the unstack() spell on the resulting series, you have transformed it into a new DataFrame called 'unisex'. This magical DataFrame showcases the 'Name' values as the index and the 'Gender' values as the columns, unveiling the total counts for each name and gender combination.\n",
    "\n",
    "You have shown great potential, my apprentice. Continue to explore the depths of data with your enchanting spells, and may your discoveries be as vast as the cosmos itself!"
   ]
  },
  {
   "cell_type": "code",
   "execution_count": null,
   "id": "15b22572-d056-4e1e-8114-500411595764",
   "metadata": {
    "tags": []
   },
   "outputs": [],
   "source": [
    "unisex.dropna(inplace = True)"
   ]
  },
  {
   "cell_type": "code",
   "execution_count": null,
   "id": "ba6654e9-3883-4a12-b63f-7aebb7777e69",
   "metadata": {
    "tags": []
   },
   "outputs": [],
   "source": [
    "unisex"
   ]
  },
  {
   "cell_type": "code",
   "execution_count": null,
   "id": "aa9a8948-7e80-4c3f-9fa2-38bdfdb7e260",
   "metadata": {
    "tags": []
   },
   "outputs": [],
   "source": [
    "unisex.min(axis = 1).sort_values(ascending = False)"
   ]
  },
  {
   "cell_type": "code",
   "execution_count": null,
   "id": "a0e784f0-7b8f-46a9-9d77-87e2fb36db9c",
   "metadata": {
    "tags": []
   },
   "outputs": [],
   "source": [
    "unisex_names = unisex.min(axis = 1).sort_values(ascending = False).index"
   ]
  },
  {
   "cell_type": "code",
   "execution_count": null,
   "id": "95bf6f74-594d-499e-a6da-4ffff1801e65",
   "metadata": {
    "tags": []
   },
   "outputs": [],
   "source": [
    "unisex_names"
   ]
  },
  {
   "cell_type": "code",
   "execution_count": null,
   "id": "19e7a2ec-3f22-4dc8-8a3a-2317d90bb326",
   "metadata": {
    "tags": []
   },
   "outputs": [],
   "source": [
    "unisex.loc[unisex_names].head(20)"
   ]
  },
  {
   "cell_type": "code",
   "execution_count": null,
   "id": "101ab348-90af-4df0-9eaa-e4fc08cf138c",
   "metadata": {
    "tags": []
   },
   "outputs": [],
   "source": [
    "unisex = unisex[unisex.min(axis = 1) > 10000]\n",
    "unisex"
   ]
  },
  {
   "cell_type": "code",
   "execution_count": null,
   "id": "4b1b8e5f-e8ef-4027-b87a-5135cbda1c4c",
   "metadata": {
    "tags": []
   },
   "outputs": [],
   "source": [
    "abs(unisex.F.div(unisex.M).sub(1)).sort_values()"
   ]
  },
  {
   "cell_type": "markdown",
   "id": "cc12281f-6a2f-43a0-b099-99ee1d1d6eea",
   "metadata": {},
   "source": [
    "To accomplish this task, we shall invoke the abs() spell to calculate the absolute difference, followed by the div() spell to divide the female counts by the male counts, and finally the sub() spell to subtract 1 from the ratio. We shall then sort the resulting values in ascending order using the sort_values() spell.\n",
    "\n",
    "\n",
    "`abs(unisex['F'].div(unisex['M']).sub(1)).sort_values()`  \n",
    "Now, let me unravel the magic behind this spell:\n",
    "* `unisex['F']`: By accessing the 'F' column of the 'unisex' DataFrame, we isolate the female count values.\n",
    "\n",
    "* `.div(unisex['M'])`: The div() spell is invoked on the female count values, dividing them by the corresponding male count values.\n",
    "\n",
    "* `.sub(1)`: The sub() spell subtracts 1 from the resulting ratio, creating the difference between the ratio and the value 1.\n",
    "\n",
    "* `abs()`: The abs() spell is cast upon the difference, calculating the absolute value.\n",
    "\n",
    "* `.sort_values()`: Finally, the sort_values() spell is invoked, sorting the resulting values in ascending order.\n",
    "\n",
    "By casting this spell, you shall summon a series of values representing the absolute differences between the ratios of female to male counts and the value 1, sorted in ascending order. This enchantment shall reveal the names with the least deviation from a balanced gender ratio."
   ]
  },
  {
   "cell_type": "code",
   "execution_count": null,
   "id": "ee731d1e-4f40-4848-9fdb-df4480de073b",
   "metadata": {},
   "outputs": [],
   "source": []
  },
  {
   "cell_type": "code",
   "execution_count": null,
   "id": "be0342ed-1067-4d9b-a81a-c3b41de0b99b",
   "metadata": {},
   "outputs": [],
   "source": []
  }
 ],
 "metadata": {
  "kernelspec": {
   "display_name": "Python 3 (ipykernel)",
   "language": "python",
   "name": "python3"
  },
  "language_info": {
   "codemirror_mode": {
    "name": "ipython",
    "version": 3
   },
   "file_extension": ".py",
   "mimetype": "text/x-python",
   "name": "python",
   "nbconvert_exporter": "python",
   "pygments_lexer": "ipython3",
   "version": "3.9.12"
  }
 },
 "nbformat": 4,
 "nbformat_minor": 5
}
